{
 "cells": [
  {
   "cell_type": "markdown",
   "id": "0f1d92d8",
   "metadata": {},
   "source": [
    "# TREADMILL BUYER PROFILE\n",
    "\n",
    "## TASK\n",
    "The market research team at AeroFit wants to identify the characteristics of the target audience for each type of treadmill offered by the company, to provide a better recommendation of the treadmills to new customers. The team decides to investigate whether there are differences across the product with respect to customer characteristics.\n",
    "\n",
    "Perform descriptive analytics to create a customer profile for each AeroFit treadmill product by developing appropriate tables and charts. For each AeroFit treadmill product, construct two-way contingency tables and compute all conditional and marginal probabilities along with their insights/impact on the business.\n",
    "\n",
    "### Products\n",
    "- The KP281 is an entry-level treadmill that sells for \\$1,500.\n",
    "- The KP481 is for mid-level runners and sells for \\$1,750.\n",
    "- The KP781 treadmill is having advanced features and it sells for \\$2,500.\n",
    "\n",
    "### Data Description\n",
    "The company collected data on individuals who purchased a treadmill from the AeroFit stores during the prior three months. The dataset in aerofit_treadmill_data.csv has the following features:\n",
    "\n",
    "- Product - product purchased: KP281, KP481, or KP781\n",
    "- Age - in years\n",
    "- Gender - male/female\n",
    "- Education - in years\n",
    "- MaritalStatus - single or partnered\n",
    "- Usage - the average number of times the customer plans to use the treadmill each week\n",
    "- Fitness - self-rated fitness on a 1-5 scale, where 1 is the poor shape and 5 is the excellent shape\n",
    "- Income - annual income in US dollars\n",
    "- Miles - the average number of miles the customer expects to walk/run each week"
   ]
  },
  {
   "cell_type": "markdown",
   "id": "8442a5e4",
   "metadata": {},
   "source": [
    "## Data Exploration"
   ]
  },
  {
   "cell_type": "code",
   "execution_count": 1,
   "id": "999a0f3d",
   "metadata": {},
   "outputs": [],
   "source": [
    "import numpy as np\n",
    "import pandas as pd\n",
    "import matplotlib.pyplot as plt\n",
    "import scipy.stats as stats\n",
    "import seaborn as sns\n",
    "import numpy as np\n",
    "from sklearn.model_selection import train_test_split\n",
    "from sklearn.neighbors import KNeighborsClassifier\n",
    "from sklearn.metrics import accuracy_score"
   ]
  },
  {
   "cell_type": "code",
   "execution_count": 2,
   "id": "35b0ee9c",
   "metadata": {},
   "outputs": [],
   "source": [
    "#IMPORT THE DATA\n",
    "df = pd.read_csv(\"aerofit_treadmill_data.csv\")"
   ]
  },
  {
   "cell_type": "code",
   "execution_count": 3,
   "id": "a23e332b",
   "metadata": {},
   "outputs": [
    {
     "data": {
      "text/html": [
       "<div>\n",
       "<style scoped>\n",
       "    .dataframe tbody tr th:only-of-type {\n",
       "        vertical-align: middle;\n",
       "    }\n",
       "\n",
       "    .dataframe tbody tr th {\n",
       "        vertical-align: top;\n",
       "    }\n",
       "\n",
       "    .dataframe thead th {\n",
       "        text-align: right;\n",
       "    }\n",
       "</style>\n",
       "<table border=\"1\" class=\"dataframe\">\n",
       "  <thead>\n",
       "    <tr style=\"text-align: right;\">\n",
       "      <th></th>\n",
       "      <th>Product</th>\n",
       "      <th>Age</th>\n",
       "      <th>Gender</th>\n",
       "      <th>Education</th>\n",
       "      <th>MaritalStatus</th>\n",
       "      <th>Usage</th>\n",
       "      <th>Fitness</th>\n",
       "      <th>Income</th>\n",
       "      <th>Miles</th>\n",
       "    </tr>\n",
       "  </thead>\n",
       "  <tbody>\n",
       "    <tr>\n",
       "      <th>0</th>\n",
       "      <td>KP281</td>\n",
       "      <td>18</td>\n",
       "      <td>Male</td>\n",
       "      <td>14</td>\n",
       "      <td>Single</td>\n",
       "      <td>3</td>\n",
       "      <td>4</td>\n",
       "      <td>29562</td>\n",
       "      <td>112</td>\n",
       "    </tr>\n",
       "    <tr>\n",
       "      <th>1</th>\n",
       "      <td>KP281</td>\n",
       "      <td>19</td>\n",
       "      <td>Male</td>\n",
       "      <td>15</td>\n",
       "      <td>Single</td>\n",
       "      <td>2</td>\n",
       "      <td>3</td>\n",
       "      <td>31836</td>\n",
       "      <td>75</td>\n",
       "    </tr>\n",
       "    <tr>\n",
       "      <th>2</th>\n",
       "      <td>KP281</td>\n",
       "      <td>19</td>\n",
       "      <td>Female</td>\n",
       "      <td>14</td>\n",
       "      <td>Partnered</td>\n",
       "      <td>4</td>\n",
       "      <td>3</td>\n",
       "      <td>30699</td>\n",
       "      <td>66</td>\n",
       "    </tr>\n",
       "    <tr>\n",
       "      <th>3</th>\n",
       "      <td>KP281</td>\n",
       "      <td>19</td>\n",
       "      <td>Male</td>\n",
       "      <td>12</td>\n",
       "      <td>Single</td>\n",
       "      <td>3</td>\n",
       "      <td>3</td>\n",
       "      <td>32973</td>\n",
       "      <td>85</td>\n",
       "    </tr>\n",
       "    <tr>\n",
       "      <th>4</th>\n",
       "      <td>KP281</td>\n",
       "      <td>20</td>\n",
       "      <td>Male</td>\n",
       "      <td>13</td>\n",
       "      <td>Partnered</td>\n",
       "      <td>4</td>\n",
       "      <td>2</td>\n",
       "      <td>35247</td>\n",
       "      <td>47</td>\n",
       "    </tr>\n",
       "  </tbody>\n",
       "</table>\n",
       "</div>"
      ],
      "text/plain": [
       "  Product  Age  Gender  Education MaritalStatus  Usage  Fitness  Income  Miles\n",
       "0   KP281   18    Male         14        Single      3        4   29562    112\n",
       "1   KP281   19    Male         15        Single      2        3   31836     75\n",
       "2   KP281   19  Female         14     Partnered      4        3   30699     66\n",
       "3   KP281   19    Male         12        Single      3        3   32973     85\n",
       "4   KP281   20    Male         13     Partnered      4        2   35247     47"
      ]
     },
     "execution_count": 3,
     "metadata": {},
     "output_type": "execute_result"
    }
   ],
   "source": [
    "#LOOKING AT DATA\n",
    "df.head()"
   ]
  },
  {
   "cell_type": "code",
   "execution_count": 4,
   "id": "12819ded",
   "metadata": {},
   "outputs": [
    {
     "data": {
      "text/plain": [
       "(180, 9)"
      ]
     },
     "execution_count": 4,
     "metadata": {},
     "output_type": "execute_result"
    }
   ],
   "source": [
    "#Get size of data 180 rows 9 columns\n",
    "df.shape"
   ]
  },
  {
   "cell_type": "code",
   "execution_count": 5,
   "id": "5b276220",
   "metadata": {},
   "outputs": [
    {
     "data": {
      "text/plain": [
       "Product          object\n",
       "Age               int64\n",
       "Gender           object\n",
       "Education         int64\n",
       "MaritalStatus    object\n",
       "Usage             int64\n",
       "Fitness           int64\n",
       "Income            int64\n",
       "Miles             int64\n",
       "dtype: object"
      ]
     },
     "execution_count": 5,
     "metadata": {},
     "output_type": "execute_result"
    }
   ],
   "source": [
    "#Get column types\n",
    "df.dtypes"
   ]
  },
  {
   "cell_type": "code",
   "execution_count": 6,
   "id": "b05fd427",
   "metadata": {},
   "outputs": [],
   "source": [
    "# Changing these to categorical values as it makes it easier to communicate them as categories to other functions in python and they take on limited values\n",
    "df['Product'] = df['Product'].astype('category')\n",
    "df['Gender'] = df['Gender'].astype('category')\n",
    "df['MaritalStatus'] = df['MaritalStatus'].astype('category')"
   ]
  },
  {
   "cell_type": "code",
   "execution_count": 7,
   "id": "b62493aa",
   "metadata": {},
   "outputs": [
    {
     "data": {
      "text/plain": [
       "Product          category\n",
       "Age                 int64\n",
       "Gender           category\n",
       "Education           int64\n",
       "MaritalStatus    category\n",
       "Usage               int64\n",
       "Fitness             int64\n",
       "Income              int64\n",
       "Miles               int64\n",
       "dtype: object"
      ]
     },
     "execution_count": 7,
     "metadata": {},
     "output_type": "execute_result"
    }
   ],
   "source": [
    "df.dtypes"
   ]
  },
  {
   "cell_type": "markdown",
   "id": "58e5bd4d",
   "metadata": {},
   "source": [
    "### Statistical Summary"
   ]
  },
  {
   "cell_type": "code",
   "execution_count": 8,
   "id": "d703a2b8",
   "metadata": {},
   "outputs": [
    {
     "data": {
      "text/html": [
       "<div>\n",
       "<style scoped>\n",
       "    .dataframe tbody tr th:only-of-type {\n",
       "        vertical-align: middle;\n",
       "    }\n",
       "\n",
       "    .dataframe tbody tr th {\n",
       "        vertical-align: top;\n",
       "    }\n",
       "\n",
       "    .dataframe thead th {\n",
       "        text-align: right;\n",
       "    }\n",
       "</style>\n",
       "<table border=\"1\" class=\"dataframe\">\n",
       "  <thead>\n",
       "    <tr style=\"text-align: right;\">\n",
       "      <th></th>\n",
       "      <th>Product</th>\n",
       "      <th>Age</th>\n",
       "      <th>Gender</th>\n",
       "      <th>Education</th>\n",
       "      <th>MaritalStatus</th>\n",
       "      <th>Usage</th>\n",
       "      <th>Fitness</th>\n",
       "      <th>Income</th>\n",
       "      <th>Miles</th>\n",
       "    </tr>\n",
       "  </thead>\n",
       "  <tbody>\n",
       "    <tr>\n",
       "      <th>count</th>\n",
       "      <td>180</td>\n",
       "      <td>180.000000</td>\n",
       "      <td>180</td>\n",
       "      <td>180.000000</td>\n",
       "      <td>180</td>\n",
       "      <td>180.000000</td>\n",
       "      <td>180.000000</td>\n",
       "      <td>180.000000</td>\n",
       "      <td>180.000000</td>\n",
       "    </tr>\n",
       "    <tr>\n",
       "      <th>unique</th>\n",
       "      <td>3</td>\n",
       "      <td>NaN</td>\n",
       "      <td>2</td>\n",
       "      <td>NaN</td>\n",
       "      <td>2</td>\n",
       "      <td>NaN</td>\n",
       "      <td>NaN</td>\n",
       "      <td>NaN</td>\n",
       "      <td>NaN</td>\n",
       "    </tr>\n",
       "    <tr>\n",
       "      <th>top</th>\n",
       "      <td>KP281</td>\n",
       "      <td>NaN</td>\n",
       "      <td>Male</td>\n",
       "      <td>NaN</td>\n",
       "      <td>Partnered</td>\n",
       "      <td>NaN</td>\n",
       "      <td>NaN</td>\n",
       "      <td>NaN</td>\n",
       "      <td>NaN</td>\n",
       "    </tr>\n",
       "    <tr>\n",
       "      <th>freq</th>\n",
       "      <td>80</td>\n",
       "      <td>NaN</td>\n",
       "      <td>104</td>\n",
       "      <td>NaN</td>\n",
       "      <td>107</td>\n",
       "      <td>NaN</td>\n",
       "      <td>NaN</td>\n",
       "      <td>NaN</td>\n",
       "      <td>NaN</td>\n",
       "    </tr>\n",
       "    <tr>\n",
       "      <th>mean</th>\n",
       "      <td>NaN</td>\n",
       "      <td>28.788889</td>\n",
       "      <td>NaN</td>\n",
       "      <td>15.572222</td>\n",
       "      <td>NaN</td>\n",
       "      <td>3.455556</td>\n",
       "      <td>3.311111</td>\n",
       "      <td>53719.577778</td>\n",
       "      <td>103.194444</td>\n",
       "    </tr>\n",
       "    <tr>\n",
       "      <th>std</th>\n",
       "      <td>NaN</td>\n",
       "      <td>6.943498</td>\n",
       "      <td>NaN</td>\n",
       "      <td>1.617055</td>\n",
       "      <td>NaN</td>\n",
       "      <td>1.084797</td>\n",
       "      <td>0.958869</td>\n",
       "      <td>16506.684226</td>\n",
       "      <td>51.863605</td>\n",
       "    </tr>\n",
       "    <tr>\n",
       "      <th>min</th>\n",
       "      <td>NaN</td>\n",
       "      <td>18.000000</td>\n",
       "      <td>NaN</td>\n",
       "      <td>12.000000</td>\n",
       "      <td>NaN</td>\n",
       "      <td>2.000000</td>\n",
       "      <td>1.000000</td>\n",
       "      <td>29562.000000</td>\n",
       "      <td>21.000000</td>\n",
       "    </tr>\n",
       "    <tr>\n",
       "      <th>25%</th>\n",
       "      <td>NaN</td>\n",
       "      <td>24.000000</td>\n",
       "      <td>NaN</td>\n",
       "      <td>14.000000</td>\n",
       "      <td>NaN</td>\n",
       "      <td>3.000000</td>\n",
       "      <td>3.000000</td>\n",
       "      <td>44058.750000</td>\n",
       "      <td>66.000000</td>\n",
       "    </tr>\n",
       "    <tr>\n",
       "      <th>50%</th>\n",
       "      <td>NaN</td>\n",
       "      <td>26.000000</td>\n",
       "      <td>NaN</td>\n",
       "      <td>16.000000</td>\n",
       "      <td>NaN</td>\n",
       "      <td>3.000000</td>\n",
       "      <td>3.000000</td>\n",
       "      <td>50596.500000</td>\n",
       "      <td>94.000000</td>\n",
       "    </tr>\n",
       "    <tr>\n",
       "      <th>75%</th>\n",
       "      <td>NaN</td>\n",
       "      <td>33.000000</td>\n",
       "      <td>NaN</td>\n",
       "      <td>16.000000</td>\n",
       "      <td>NaN</td>\n",
       "      <td>4.000000</td>\n",
       "      <td>4.000000</td>\n",
       "      <td>58668.000000</td>\n",
       "      <td>114.750000</td>\n",
       "    </tr>\n",
       "    <tr>\n",
       "      <th>max</th>\n",
       "      <td>NaN</td>\n",
       "      <td>50.000000</td>\n",
       "      <td>NaN</td>\n",
       "      <td>21.000000</td>\n",
       "      <td>NaN</td>\n",
       "      <td>7.000000</td>\n",
       "      <td>5.000000</td>\n",
       "      <td>104581.000000</td>\n",
       "      <td>360.000000</td>\n",
       "    </tr>\n",
       "  </tbody>\n",
       "</table>\n",
       "</div>"
      ],
      "text/plain": [
       "       Product         Age Gender   Education MaritalStatus       Usage  \\\n",
       "count      180  180.000000    180  180.000000           180  180.000000   \n",
       "unique       3         NaN      2         NaN             2         NaN   \n",
       "top      KP281         NaN   Male         NaN     Partnered         NaN   \n",
       "freq        80         NaN    104         NaN           107         NaN   \n",
       "mean       NaN   28.788889    NaN   15.572222           NaN    3.455556   \n",
       "std        NaN    6.943498    NaN    1.617055           NaN    1.084797   \n",
       "min        NaN   18.000000    NaN   12.000000           NaN    2.000000   \n",
       "25%        NaN   24.000000    NaN   14.000000           NaN    3.000000   \n",
       "50%        NaN   26.000000    NaN   16.000000           NaN    3.000000   \n",
       "75%        NaN   33.000000    NaN   16.000000           NaN    4.000000   \n",
       "max        NaN   50.000000    NaN   21.000000           NaN    7.000000   \n",
       "\n",
       "           Fitness         Income       Miles  \n",
       "count   180.000000     180.000000  180.000000  \n",
       "unique         NaN            NaN         NaN  \n",
       "top            NaN            NaN         NaN  \n",
       "freq           NaN            NaN         NaN  \n",
       "mean      3.311111   53719.577778  103.194444  \n",
       "std       0.958869   16506.684226   51.863605  \n",
       "min       1.000000   29562.000000   21.000000  \n",
       "25%       3.000000   44058.750000   66.000000  \n",
       "50%       3.000000   50596.500000   94.000000  \n",
       "75%       4.000000   58668.000000  114.750000  \n",
       "max       5.000000  104581.000000  360.000000  "
      ]
     },
     "execution_count": 8,
     "metadata": {},
     "output_type": "execute_result"
    }
   ],
   "source": [
    "# summarize the data and include all values\n",
    "df.describe(include='all')"
   ]
  },
  {
   "cell_type": "markdown",
   "id": "599588b7",
   "metadata": {},
   "source": [
    "##### Observations:\n",
    "- 3 types of products as expected\n",
    "- No values are missing or blank in any column\n",
    "- Age is between 18 and 50, 75% of buyers are 33 or younger\n",
    "- Majority of buyers are Male and married\n",
    "- Possible income disparity due to high stdev\n",
    "- Some people run a lot more then others as the stdev disparity shows this"
   ]
  },
  {
   "cell_type": "code",
   "execution_count": 9,
   "id": "fedcab57",
   "metadata": {},
   "outputs": [
    {
     "data": {
      "text/plain": [
       "0"
      ]
     },
     "execution_count": 9,
     "metadata": {},
     "output_type": "execute_result"
    }
   ],
   "source": [
    "#Check for duplicate rows\n",
    "df.duplicated().sum()"
   ]
  },
  {
   "cell_type": "markdown",
   "id": "ed5125cb",
   "metadata": {},
   "source": [
    "## Non-Graphical Analysis"
   ]
  },
  {
   "cell_type": "code",
   "execution_count": 10,
   "id": "8e2c010f",
   "metadata": {},
   "outputs": [
    {
     "data": {
      "text/plain": [
       "KP281    80\n",
       "KP481    60\n",
       "KP781    40\n",
       "Name: Product, dtype: int64"
      ]
     },
     "execution_count": 10,
     "metadata": {},
     "output_type": "execute_result"
    }
   ],
   "source": [
    "df['Product'].value_counts()"
   ]
  },
  {
   "cell_type": "code",
   "execution_count": 11,
   "id": "07a45f25",
   "metadata": {},
   "outputs": [
    {
     "data": {
      "text/plain": [
       "Male      104\n",
       "Female     76\n",
       "Name: Gender, dtype: int64"
      ]
     },
     "execution_count": 11,
     "metadata": {},
     "output_type": "execute_result"
    }
   ],
   "source": [
    "df['Gender'].value_counts()"
   ]
  },
  {
   "cell_type": "code",
   "execution_count": 12,
   "id": "184fb8a7",
   "metadata": {},
   "outputs": [
    {
     "data": {
      "text/plain": [
       "Partnered    107\n",
       "Single        73\n",
       "Name: MaritalStatus, dtype: int64"
      ]
     },
     "execution_count": 12,
     "metadata": {},
     "output_type": "execute_result"
    }
   ],
   "source": [
    "df['MaritalStatus'].value_counts()"
   ]
  },
  {
   "cell_type": "markdown",
   "id": "a998ea15",
   "metadata": {},
   "source": [
    "## Graphical Analysis"
   ]
  },
  {
   "cell_type": "markdown",
   "id": "fd1b19cb",
   "metadata": {},
   "source": [
    "### Density Plots"
   ]
  },
  {
   "cell_type": "code",
   "execution_count": 13,
   "id": "f69843f6",
   "metadata": {},
   "outputs": [
    {
     "data": {
      "image/png": "[encoded data removed]",
      "text/plain": [
       "<Figure size 864x720 with 6 Axes>"
      ]
     },
     "metadata": {
      "needs_background": "light"
     },
     "output_type": "display_data"
    }
   ],
   "source": [
    "fig, axis = plt.subplots(nrows = 3, ncols = 2, figsize = (12,10))\n",
    "fig.subplots_adjust(top=1.2)\n",
    "\n",
    "sns.histplot(df['Age'], kde=True, ax=axis[0,0], stat = 'density')\n",
    "sns.histplot(df['Education'], kde=True, ax=axis[0,1], stat ='density')\n",
    "sns.histplot(df['Usage'], kde=True, ax=axis[1,0], stat = 'density')\n",
    "sns.histplot(df['Fitness'], kde=True, ax=axis[1,1], stat = 'density')\n",
    "sns.histplot(df['Income'], kde=True, ax=axis[2,0], stat = 'density')\n",
    "sns.histplot(df['Miles'], kde=True, ax=axis[2,1], stat = 'density')\n",
    "plt.show()"
   ]
  },
  {
   "cell_type": "markdown",
   "id": "c01b42e2",
   "metadata": {},
   "source": [
    "#### Observations:\n",
    "- Miles and Income have outliers as right skewed majority of distribution on concentrated on the left\n",
    "- Customers of fitness level 3 or customers with education of 16 buy most of the treadmills\n",
    "- Mainly younger people have these treadmills, possibly as they are trying to achieve a certain body comp or training"
   ]
  },
  {
   "cell_type": "markdown",
   "id": "e3fd13da",
   "metadata": {},
   "source": [
    "### Count Plots"
   ]
  },
  {
   "cell_type": "code",
   "execution_count": 14,
   "id": "bd5574d0",
   "metadata": {},
   "outputs": [
    {
     "data": {
      "image/png": "[encoded data removed]",
      "text/plain": [
       "<Figure size 1440x864 with 6 Axes>"
      ]
     },
     "metadata": {
      "needs_background": "light"
     },
     "output_type": "display_data"
    }
   ],
   "source": [
    "# Counts for each of the values\n",
    "fig, axis = plt.subplots(nrows=3, ncols=2, figsize=(20, 12))\n",
    "fig.subplots_adjust(top=1.2)\n",
    "\n",
    "sns.countplot(data=df, x=\"Age\", ax=axis[0,0])\n",
    "sns.countplot(data=df, x=\"Education\", ax=axis[0,1])\n",
    "sns.countplot(data=df, x=\"Usage\", ax=axis[1,0])\n",
    "sns.countplot(data=df, x=\"Fitness\", ax=axis[1,1])\n",
    "sns.countplot(data=df, x=\"Income\", ax=axis[2,0])\n",
    "sns.countplot(data=df, x=\"Miles\", ax=axis[2,1])\n",
    "plt.show()"
   ]
  },
  {
   "cell_type": "markdown",
   "id": "1d295d65",
   "metadata": {},
   "source": [
    "Confirms previous observations where younger people are using the treadmills more and people with education 16 or fitness level 3 are also the ones buying them more."
   ]
  },
  {
   "cell_type": "markdown",
   "id": "2c1177a6",
   "metadata": {},
   "source": [
    "### Box and Whisker Plots"
   ]
  },
  {
   "cell_type": "code",
   "execution_count": 15,
   "id": "e848a7f2",
   "metadata": {},
   "outputs": [
    {
     "data": {
      "image/png": "[encoded data removed]",
      "text/plain": [
       "<Figure size 864x720 with 6 Axes>"
      ]
     },
     "metadata": {
      "needs_background": "light"
     },
     "output_type": "display_data"
    }
   ],
   "source": [
    "# Show outliers in the values\n",
    "fig, axis = plt.subplots(nrows=3, ncols=2, figsize=(12, 10))\n",
    "fig.subplots_adjust(top=1.2)\n",
    "\n",
    "sns.boxplot(data=df, x=\"Age\", orient='h', ax=axis[0,0])\n",
    "sns.boxplot(data=df, x=\"Education\", orient='h', ax=axis[0,1])\n",
    "sns.boxplot(data=df, x=\"Usage\", orient='h', ax=axis[1,0])\n",
    "sns.boxplot(data=df, x=\"Fitness\", orient='h', ax=axis[1,1])\n",
    "sns.boxplot(data=df, x=\"Income\", orient='h', ax=axis[2,0])\n",
    "sns.boxplot(data=df, x=\"Miles\", orient='h', ax=axis[2,1])\n",
    "plt.show()"
   ]
  },
  {
   "cell_type": "markdown",
   "id": "82cea538",
   "metadata": {},
   "source": [
    "#### Observations:\n",
    "- Fitness and education have very litte outliers\n",
    "- We can see that Miles and Income have the most outliers as we predicted earlier on\n",
    "- Median of the age is around 26, meaning that people older than 18 and younger than 26 are buying 50% of the treadmill (younger people buy them more)"
   ]
  },
  {
   "cell_type": "markdown",
   "id": "e27113d2",
   "metadata": {},
   "source": [
    "### Bar Charts for Categorial Values"
   ]
  },
  {
   "cell_type": "code",
   "execution_count": 16,
   "id": "712e076e",
   "metadata": {},
   "outputs": [
    {
     "data": {
      "image/png": "[encoded data removed]",
      "text/plain": [
       "<Figure size 1440x432 with 3 Axes>"
      ]
     },
     "metadata": {
      "needs_background": "light"
     },
     "output_type": "display_data"
    }
   ],
   "source": [
    "fig, axs = plt.subplots(nrows=1, ncols=3, figsize=(20, 6))\n",
    "sns.countplot(data=df, x='Product', ax=axs[0])\n",
    "sns.countplot(data=df, x='Gender', ax=axs[1])\n",
    "sns.countplot(data=df, x='MaritalStatus', ax=axs[2])\n",
    "\n",
    "axs[0].set_title(\"Product - counts\", pad=10, fontsize=14)\n",
    "axs[1].set_title(\"Gender - counts\", pad=10, fontsize=14)\n",
    "axs[2].set_title(\"MaritalStatus - counts\", pad=10, fontsize=14)\n",
    "plt.show()"
   ]
  },
  {
   "cell_type": "markdown",
   "id": "45318a4e",
   "metadata": {},
   "source": [
    "#### Observations:\n",
    "- KP281 is the most sold treadmill\n",
    "- Males are using the treadmills more\n",
    "- Partnered people are buying them more as well"
   ]
  },
  {
   "cell_type": "markdown",
   "id": "10274cd8",
   "metadata": {},
   "source": [
    "### Product vs Categorical Columns (Bivariate)\n",
    "Seeing if categorical features have any effect on the product that is purchased"
   ]
  },
  {
   "cell_type": "code",
   "execution_count": 17,
   "id": "d4bd32fd",
   "metadata": {},
   "outputs": [
    {
     "data": {
      "image/png": "[encoded data removed]",
      "text/plain": [
       "<Figure size 2160x720 with 3 Axes>"
      ]
     },
     "metadata": {
      "needs_background": "light"
     },
     "output_type": "display_data"
    }
   ],
   "source": [
    "fig, axs = plt.subplots(nrows=1, ncols=3, figsize=(30, 10))\n",
    "sns.countplot(data=df, x='Product', hue='Gender', edgecolor=\"0.15\", ax=axs[0])\n",
    "sns.countplot(data=df, x='Product', hue='MaritalStatus', edgecolor=\"0.15\", ax=axs[1])\n",
    "sns.countplot(data=df, x='Age', hue='Product', edgecolor=\"0.15\", ax=axs[2])\n",
    "axs[0].set_title(\"Product vs Gender\", pad=10, fontsize=14)\n",
    "axs[1].set_title(\"Product vs MaritalStatus\", pad=10, fontsize=14)\n",
    "plt.show()"
   ]
  },
  {
   "cell_type": "markdown",
   "id": "74cb3884",
   "metadata": {},
   "source": [
    "#### Observations:\n",
    "- Mainly males buy the KP781, other treadmills are even between the genders\n",
    "- Partnered people buy more of every treadmill available, then single people\n",
    "- Age is harder to see, but easiest to see is that KP481 is preferred by people at the age of 25"
   ]
  },
  {
   "cell_type": "markdown",
   "id": "6517d674",
   "metadata": {},
   "source": [
    "### Product vs Continuous Columns (Bivariate)\n",
    "Seeing if continuous features have any effect on the product that is purchased"
   ]
  },
  {
   "cell_type": "code",
   "execution_count": 18,
   "id": "c8908654",
   "metadata": {},
   "outputs": [
    {
     "data": {
      "image/png": "[encoded data removed]",
      "text/plain": [
       "<Figure size 1296x864 with 6 Axes>"
      ]
     },
     "metadata": {},
     "output_type": "display_data"
    }
   ],
   "source": [
    "attributes = ['Age', 'Education', 'Usage', 'Fitness', 'Income', 'Miles']\n",
    "sns.set(color_codes = True)\n",
    "fig, axs = plt.subplots(nrows=2, ncols=3, figsize=(18, 12))\n",
    "fig.subplots_adjust(top=1.2)\n",
    "count = 0\n",
    "for i in range(2):\n",
    "    for j in range(3):\n",
    "        sns.boxplot(data=df, x='Product', y=attributes[count], ax=axs[i,j])\n",
    "        axs[i,j].set_title(f\"Product vs {attributes[count]}\", pad=12, fontsize=13)\n",
    "        count += 1"
   ]
  },
  {
   "cell_type": "markdown",
   "id": "2dff1c6f",
   "metadata": {},
   "source": [
    "#### Observations:\n",
    "- ##### Product vs Age:\n",
    "    - All treadmills equally bought no matter the age\n",
    "    - Median is the same for KP481 and KP281\n",
    "- ##### Product vs Education\n",
    "    - People buying KP781 have higher education then others, possibly more affordable to them due to having a higher income due to the fact they have a higher education\n",
    "    - People with education less than or equal to 16 have a equal chance of buying KP281 or KP481\n",
    "- ##### Product vs Usuage\n",
    "    - People who use the treadmill a lot buy the KP781 as they can take advantage of increased features even more\n",
    "- ##### Product vs Fitness\n",
    "    - Fitter customers buy the KP781, similar to usuage they will take advantage of the increased features\n",
    "- ##### Product vs Income\n",
    "    - People with higher incomes can afford the KP781 more\n",
    "- ##### Product vs Miles\n",
    "    - Customers who run more buy the KP781, similar to usuage they will take advantage of the increased features"
   ]
  },
  {
   "cell_type": "markdown",
   "id": "72d5036a",
   "metadata": {},
   "source": [
    "### Multivariate Analysis"
   ]
  },
  {
   "cell_type": "code",
   "execution_count": 19,
   "id": "ce2cf820",
   "metadata": {},
   "outputs": [
    {
     "data": {
      "image/png": "[encoded data removed]",
      "text/plain": [
       "<Figure size 1296x864 with 6 Axes>"
      ]
     },
     "metadata": {},
     "output_type": "display_data"
    }
   ],
   "source": [
    "attributes = ['Age', 'Education', 'Usage', 'Fitness', 'Income', 'Miles']\n",
    "sns.set(color_codes=True)\n",
    "fig, axs = plt.subplots(nrows=3, ncols=2, figsize=(18, 12))\n",
    "fig.subplots_adjust(top=1.3)\n",
    "count = 0\n",
    "for i in range(3):\n",
    "    for j in range(2):\n",
    "        sns.boxplot(data=df, x='Gender', y=attributes[count], hue='Product', ax=axs[i,j])\n",
    "        axs[i,j].set_title(f\"Product vs {attributes[count]}\", pad=12, fontsize=13)\n",
    "        count += 1"
   ]
  },
  {
   "cell_type": "markdown",
   "id": "cb35a56b",
   "metadata": {},
   "source": [
    "#### Observations:\n",
    "- We still see that people with higher education, irrespective of gender will purchase the KP781\n",
    "- We see key distinctions in females when they buy treadmills, if they are using for 2-3 hours they purchase KP281, 3-4 hours KP481 and KP781 if more than 4 hours\n",
    "- People buy the KP781 irrespective of gender if they have higher fitness, income and more miles ran"
   ]
  },
  {
   "cell_type": "markdown",
   "id": "80d72bc6",
   "metadata": {},
   "source": [
    "## Correlation Analysis"
   ]
  },
  {
   "cell_type": "code",
   "execution_count": 20,
   "id": "5ed274b7",
   "metadata": {},
   "outputs": [
    {
     "data": {
      "text/html": [
       "<div>\n",
       "<style scoped>\n",
       "    .dataframe tbody tr th:only-of-type {\n",
       "        vertical-align: middle;\n",
       "    }\n",
       "\n",
       "    .dataframe tbody tr th {\n",
       "        vertical-align: top;\n",
       "    }\n",
       "\n",
       "    .dataframe thead th {\n",
       "        text-align: right;\n",
       "    }\n",
       "</style>\n",
       "<table border=\"1\" class=\"dataframe\">\n",
       "  <thead>\n",
       "    <tr style=\"text-align: right;\">\n",
       "      <th></th>\n",
       "      <th>Age</th>\n",
       "      <th>Education</th>\n",
       "      <th>Usage</th>\n",
       "      <th>Fitness</th>\n",
       "      <th>Income</th>\n",
       "      <th>Miles</th>\n",
       "    </tr>\n",
       "  </thead>\n",
       "  <tbody>\n",
       "    <tr>\n",
       "      <th>Age</th>\n",
       "      <td>1.000000</td>\n",
       "      <td>0.280496</td>\n",
       "      <td>0.015064</td>\n",
       "      <td>0.061105</td>\n",
       "      <td>0.513414</td>\n",
       "      <td>0.036618</td>\n",
       "    </tr>\n",
       "    <tr>\n",
       "      <th>Education</th>\n",
       "      <td>0.280496</td>\n",
       "      <td>1.000000</td>\n",
       "      <td>0.395155</td>\n",
       "      <td>0.410581</td>\n",
       "      <td>0.625827</td>\n",
       "      <td>0.307284</td>\n",
       "    </tr>\n",
       "    <tr>\n",
       "      <th>Usage</th>\n",
       "      <td>0.015064</td>\n",
       "      <td>0.395155</td>\n",
       "      <td>1.000000</td>\n",
       "      <td>0.668606</td>\n",
       "      <td>0.519537</td>\n",
       "      <td>0.759130</td>\n",
       "    </tr>\n",
       "    <tr>\n",
       "      <th>Fitness</th>\n",
       "      <td>0.061105</td>\n",
       "      <td>0.410581</td>\n",
       "      <td>0.668606</td>\n",
       "      <td>1.000000</td>\n",
       "      <td>0.535005</td>\n",
       "      <td>0.785702</td>\n",
       "    </tr>\n",
       "    <tr>\n",
       "      <th>Income</th>\n",
       "      <td>0.513414</td>\n",
       "      <td>0.625827</td>\n",
       "      <td>0.519537</td>\n",
       "      <td>0.535005</td>\n",
       "      <td>1.000000</td>\n",
       "      <td>0.543473</td>\n",
       "    </tr>\n",
       "    <tr>\n",
       "      <th>Miles</th>\n",
       "      <td>0.036618</td>\n",
       "      <td>0.307284</td>\n",
       "      <td>0.759130</td>\n",
       "      <td>0.785702</td>\n",
       "      <td>0.543473</td>\n",
       "      <td>1.000000</td>\n",
       "    </tr>\n",
       "  </tbody>\n",
       "</table>\n",
       "</div>"
      ],
      "text/plain": [
       "                Age  Education     Usage   Fitness    Income     Miles\n",
       "Age        1.000000   0.280496  0.015064  0.061105  0.513414  0.036618\n",
       "Education  0.280496   1.000000  0.395155  0.410581  0.625827  0.307284\n",
       "Usage      0.015064   0.395155  1.000000  0.668606  0.519537  0.759130\n",
       "Fitness    0.061105   0.410581  0.668606  1.000000  0.535005  0.785702\n",
       "Income     0.513414   0.625827  0.519537  0.535005  1.000000  0.543473\n",
       "Miles      0.036618   0.307284  0.759130  0.785702  0.543473  1.000000"
      ]
     },
     "execution_count": 20,
     "metadata": {},
     "output_type": "execute_result"
    }
   ],
   "source": [
    "df.corr()"
   ]
  },
  {
   "cell_type": "code",
   "execution_count": 21,
   "id": "87a4df8c",
   "metadata": {},
   "outputs": [
    {
     "data": {
      "text/html": [
       "<div>\n",
       "<style scoped>\n",
       "    .dataframe tbody tr th:only-of-type {\n",
       "        vertical-align: middle;\n",
       "    }\n",
       "\n",
       "    .dataframe tbody tr th {\n",
       "        vertical-align: top;\n",
       "    }\n",
       "\n",
       "    .dataframe thead th {\n",
       "        text-align: right;\n",
       "    }\n",
       "</style>\n",
       "<table border=\"1\" class=\"dataframe\">\n",
       "  <thead>\n",
       "    <tr style=\"text-align: right;\">\n",
       "      <th></th>\n",
       "      <th>Age</th>\n",
       "      <th>Education</th>\n",
       "      <th>Usage</th>\n",
       "      <th>Fitness</th>\n",
       "      <th>Income</th>\n",
       "      <th>Miles</th>\n",
       "    </tr>\n",
       "  </thead>\n",
       "  <tbody>\n",
       "    <tr>\n",
       "      <th>Age</th>\n",
       "      <td>48.212166</td>\n",
       "      <td>3.149410</td>\n",
       "      <td>0.113470</td>\n",
       "      <td>0.406828</td>\n",
       "      <td>5.884446e+04</td>\n",
       "      <td>13.186530</td>\n",
       "    </tr>\n",
       "    <tr>\n",
       "      <th>Education</th>\n",
       "      <td>3.149410</td>\n",
       "      <td>2.614867</td>\n",
       "      <td>0.693172</td>\n",
       "      <td>0.636623</td>\n",
       "      <td>1.670472e+04</td>\n",
       "      <td>25.770795</td>\n",
       "    </tr>\n",
       "    <tr>\n",
       "      <th>Usage</th>\n",
       "      <td>0.113470</td>\n",
       "      <td>0.693172</td>\n",
       "      <td>1.176785</td>\n",
       "      <td>0.695469</td>\n",
       "      <td>9.303043e+03</td>\n",
       "      <td>42.709808</td>\n",
       "    </tr>\n",
       "    <tr>\n",
       "      <th>Fitness</th>\n",
       "      <td>0.406828</td>\n",
       "      <td>0.636623</td>\n",
       "      <td>0.695469</td>\n",
       "      <td>0.919429</td>\n",
       "      <td>8.467925e+03</td>\n",
       "      <td>39.073246</td>\n",
       "    </tr>\n",
       "    <tr>\n",
       "      <th>Income</th>\n",
       "      <td>58844.463439</td>\n",
       "      <td>16704.717815</td>\n",
       "      <td>9303.042582</td>\n",
       "      <td>8467.925388</td>\n",
       "      <td>2.724706e+08</td>\n",
       "      <td>465265.361887</td>\n",
       "    </tr>\n",
       "    <tr>\n",
       "      <th>Miles</th>\n",
       "      <td>13.186530</td>\n",
       "      <td>25.770795</td>\n",
       "      <td>42.709808</td>\n",
       "      <td>39.073246</td>\n",
       "      <td>4.652654e+05</td>\n",
       "      <td>2689.833489</td>\n",
       "    </tr>\n",
       "  </tbody>\n",
       "</table>\n",
       "</div>"
      ],
      "text/plain": [
       "                    Age     Education        Usage      Fitness        Income  \\\n",
       "Age           48.212166      3.149410     0.113470     0.406828  5.884446e+04   \n",
       "Education      3.149410      2.614867     0.693172     0.636623  1.670472e+04   \n",
       "Usage          0.113470      0.693172     1.176785     0.695469  9.303043e+03   \n",
       "Fitness        0.406828      0.636623     0.695469     0.919429  8.467925e+03   \n",
       "Income     58844.463439  16704.717815  9303.042582  8467.925388  2.724706e+08   \n",
       "Miles         13.186530     25.770795    42.709808    39.073246  4.652654e+05   \n",
       "\n",
       "                   Miles  \n",
       "Age            13.186530  \n",
       "Education      25.770795  \n",
       "Usage          42.709808  \n",
       "Fitness        39.073246  \n",
       "Income     465265.361887  \n",
       "Miles        2689.833489  "
      ]
     },
     "execution_count": 21,
     "metadata": {},
     "output_type": "execute_result"
    }
   ],
   "source": [
    "df.cov()"
   ]
  },
  {
   "cell_type": "markdown",
   "id": "8864f03d",
   "metadata": {},
   "source": [
    "#### Observations:\n",
    "- Miles and Fitness and Miles and Usage are highly correlated, which makes sense that people who run more have better fitness. They will also be buying more treadmills\n",
    "- Income and Education has good correlation as well\n",
    "- Age and usage have low correlation meaning age does not effect the amount a person uses a treadmill"
   ]
  },
  {
   "cell_type": "markdown",
   "id": "a1da6714",
   "metadata": {},
   "source": [
    "## Marginal and Conditional Probabilities\n",
    "Percent of customers have purchased the 3 different treadmills and how their gender and marital status dictate which product they bought."
   ]
  },
  {
   "cell_type": "code",
   "execution_count": 22,
   "id": "ef36db22",
   "metadata": {},
   "outputs": [
    {
     "data": {
      "text/html": [
       "<div>\n",
       "<style scoped>\n",
       "    .dataframe tbody tr th:only-of-type {\n",
       "        vertical-align: middle;\n",
       "    }\n",
       "\n",
       "    .dataframe tbody tr th {\n",
       "        vertical-align: top;\n",
       "    }\n",
       "\n",
       "    .dataframe thead th {\n",
       "        text-align: right;\n",
       "    }\n",
       "</style>\n",
       "<table border=\"1\" class=\"dataframe\">\n",
       "  <thead>\n",
       "    <tr style=\"text-align: right;\">\n",
       "      <th></th>\n",
       "      <th></th>\n",
       "      <th>value</th>\n",
       "    </tr>\n",
       "    <tr>\n",
       "      <th>variable</th>\n",
       "      <th>value</th>\n",
       "      <th></th>\n",
       "    </tr>\n",
       "  </thead>\n",
       "  <tbody>\n",
       "    <tr>\n",
       "      <th rowspan=\"2\" valign=\"top\">Gender</th>\n",
       "      <th>Female</th>\n",
       "      <td>42.222%</td>\n",
       "    </tr>\n",
       "    <tr>\n",
       "      <th>Male</th>\n",
       "      <td>57.778%</td>\n",
       "    </tr>\n",
       "    <tr>\n",
       "      <th rowspan=\"2\" valign=\"top\">MaritalStatus</th>\n",
       "      <th>Partnered</th>\n",
       "      <td>59.444%</td>\n",
       "    </tr>\n",
       "    <tr>\n",
       "      <th>Single</th>\n",
       "      <td>40.556%</td>\n",
       "    </tr>\n",
       "    <tr>\n",
       "      <th rowspan=\"3\" valign=\"top\">Product</th>\n",
       "      <th>KP281</th>\n",
       "      <td>44.444%</td>\n",
       "    </tr>\n",
       "    <tr>\n",
       "      <th>KP481</th>\n",
       "      <td>33.333%</td>\n",
       "    </tr>\n",
       "    <tr>\n",
       "      <th>KP781</th>\n",
       "      <td>22.222%</td>\n",
       "    </tr>\n",
       "  </tbody>\n",
       "</table>\n",
       "</div>"
      ],
      "text/plain": [
       "                           value\n",
       "variable      value             \n",
       "Gender        Female     42.222%\n",
       "              Male       57.778%\n",
       "MaritalStatus Partnered  59.444%\n",
       "              Single     40.556%\n",
       "Product       KP281      44.444%\n",
       "              KP481      33.333%\n",
       "              KP781      22.222%"
      ]
     },
     "execution_count": 22,
     "metadata": {},
     "output_type": "execute_result"
    }
   ],
   "source": [
    "df1 = df[['Product', 'Gender', 'MaritalStatus']].melt()\n",
    "(df1.groupby(['variable', 'value'])[['value']].count() / len(df)).mul(100).round(3).astype(str) + '%'"
   ]
  },
  {
   "cell_type": "code",
   "execution_count": 23,
   "id": "a2639f7e",
   "metadata": {},
   "outputs": [
    {
     "name": "stdout",
     "output_type": "stream",
     "text": [
      "P(KP281/Male): 0.38\n",
      "P(KP481/Male): 0.30\n",
      "P(KP781/Male): 0.32\n",
      "\n",
      "P(KP281/Female): 0.53\n",
      "P(KP481/Female): 0.38\n",
      "P(KP781/Female): 0.09\n",
      "\n"
     ]
    }
   ],
   "source": [
    "def p_prod_given_gender(gender):\n",
    "    if gender != \"Female\" and gender != \"Male\":\n",
    "        return \"Invalid gender value.\"\n",
    "    \n",
    "    df1 = pd.crosstab(index=df['Gender'], columns=[df['Product']])\n",
    "    p_281 = df1['KP281'][gender] / df1.loc[gender].sum()\n",
    "    p_481 = df1['KP481'][gender] / df1.loc[gender].sum()\n",
    "    p_781 = df1['KP781'][gender] / df1.loc[gender].sum()\n",
    "        \n",
    "    print(f\"P(KP281/{gender}): {p_281:.2f}\") \n",
    "    print(f\"P(KP481/{gender}): {p_481:.2f}\")\n",
    "    print(f\"P(KP781/{gender}): {p_781:.2f}\\n\")\n",
    "    \n",
    "p_prod_given_gender('Male')\n",
    "p_prod_given_gender('Female')"
   ]
  },
  {
   "cell_type": "code",
   "execution_count": 24,
   "id": "fd761088",
   "metadata": {},
   "outputs": [
    {
     "name": "stdout",
     "output_type": "stream",
     "text": [
      "P(KP281/Single): 0.44\n",
      "P(KP481/Single): 0.33\n",
      "P(KP781/Single): 0.23\n",
      "\n",
      "P(KP281/Partnered): 0.45\n",
      "P(KP481/Partnered): 0.34\n",
      "P(KP781/Partnered): 0.21\n",
      "\n"
     ]
    }
   ],
   "source": [
    "def p_prod_given_ms(status):\n",
    "    if status != \"Single\" and status != \"Partnered\":\n",
    "        return \"Invalid marital status value.\"\n",
    "    \n",
    "    df1 = pd.crosstab(index=df['MaritalStatus'], columns=[df['Product']])\n",
    "    p_281 = df1['KP281'][status] / df1.loc[status].sum()\n",
    "    p_481 = df1['KP481'][status] / df1.loc[status].sum()\n",
    "    p_781 = df1['KP781'][status] / df1.loc[status].sum()\n",
    "        \n",
    "    print(f\"P(KP281/{status}): {p_281:.2f}\") \n",
    "    print(f\"P(KP481/{status}): {p_481:.2f}\")\n",
    "    print(f\"P(KP781/{status}): {p_781:.2f}\\n\")\n",
    "    \n",
    "p_prod_given_ms('Single')\n",
    "p_prod_given_ms('Partnered')"
   ]
  },
  {
   "cell_type": "markdown",
   "id": "1cfcd2c1",
   "metadata": {},
   "source": [
    "### Product - Gender Conditional Probabilities"
   ]
  },
  {
   "cell_type": "code",
   "execution_count": 25,
   "id": "915a91b8",
   "metadata": {},
   "outputs": [],
   "source": [
    "product_gender = pd.crosstab(index=df['Product'], columns=[df['Gender']], margins=True)"
   ]
  },
  {
   "cell_type": "code",
   "execution_count": 26,
   "id": "db648a75",
   "metadata": {},
   "outputs": [
    {
     "name": "stdout",
     "output_type": "stream",
     "text": [
      "P(Male/KP281): 50.00\n",
      "P(Male/KP481): 52.00\n",
      "P(Male/KP781): 82.00\n",
      "\n",
      "P(Female/KP281): 50.00\n",
      "P(Female/KP481): 48.00\n",
      "P(Female/KP781): 18.00\n",
      "\n"
     ]
    }
   ],
   "source": [
    "# Probability of a customer being a Female given that Product is one of the treadmills\n",
    "#P(A|B) = P(A,B)/P(B) - Bayes' Theorem\n",
    "#P(Female|KP281) = P(Female,Product)/P(Product)\n",
    "Gender = ['Male', 'Female']\n",
    "\n",
    "for item in Gender:\n",
    "    prob = round((product_gender[item]['KP281'] / product_gender['All']['KP281']),2)\n",
    "    pct_1 = round(prob*100,2)\n",
    "    pct_1\n",
    "\n",
    "    prob = round((product_gender[item]['KP481'] / product_gender['All']['KP481']),2)\n",
    "    pct_2 = round(prob*100,2)\n",
    "    pct_2\n",
    "\n",
    "    prob = round((product_gender[item]['KP781'] / product_gender['All']['KP781']),2)\n",
    "    pct_3 = round(prob*100,2)\n",
    "    pct_3\n",
    "\n",
    "    print(f\"P({item}/KP281): {pct_1:.2f}\") \n",
    "    print(f\"P({item}/KP481): {pct_2:.2f}\")\n",
    "    print(f\"P({item}/KP781): {pct_3:.2f}\\n\")"
   ]
  },
  {
   "cell_type": "markdown",
   "id": "00cd9156",
   "metadata": {},
   "source": [
    "#### Observations:\n",
    "- Females tend to buy KP281 and KP481\n",
    "- Males mainly buy the KP781"
   ]
  },
  {
   "cell_type": "markdown",
   "id": "260c20d8",
   "metadata": {},
   "source": [
    "### Product - Age Conditional Probabilities\n",
    "Since there are many ages, we will put them in categories and find probabilites for those categories"
   ]
  },
  {
   "cell_type": "code",
   "execution_count": 27,
   "id": "2878c620",
   "metadata": {},
   "outputs": [
    {
     "data": {
      "text/html": [
       "<div>\n",
       "<style scoped>\n",
       "    .dataframe tbody tr th:only-of-type {\n",
       "        vertical-align: middle;\n",
       "    }\n",
       "\n",
       "    .dataframe tbody tr th {\n",
       "        vertical-align: top;\n",
       "    }\n",
       "\n",
       "    .dataframe thead th {\n",
       "        text-align: right;\n",
       "    }\n",
       "</style>\n",
       "<table border=\"1\" class=\"dataframe\">\n",
       "  <thead>\n",
       "    <tr style=\"text-align: right;\">\n",
       "      <th></th>\n",
       "      <th>Product</th>\n",
       "      <th>Age</th>\n",
       "      <th>Gender</th>\n",
       "      <th>Education</th>\n",
       "      <th>MaritalStatus</th>\n",
       "      <th>Usage</th>\n",
       "      <th>Fitness</th>\n",
       "      <th>Income</th>\n",
       "      <th>Miles</th>\n",
       "      <th>AgeGroup</th>\n",
       "      <th>AgeCategory</th>\n",
       "    </tr>\n",
       "  </thead>\n",
       "  <tbody>\n",
       "    <tr>\n",
       "      <th>0</th>\n",
       "      <td>KP281</td>\n",
       "      <td>18</td>\n",
       "      <td>Male</td>\n",
       "      <td>14</td>\n",
       "      <td>Single</td>\n",
       "      <td>3</td>\n",
       "      <td>4</td>\n",
       "      <td>29562</td>\n",
       "      <td>112</td>\n",
       "      <td>(14, 20]</td>\n",
       "      <td>Teens</td>\n",
       "    </tr>\n",
       "    <tr>\n",
       "      <th>1</th>\n",
       "      <td>KP281</td>\n",
       "      <td>19</td>\n",
       "      <td>Male</td>\n",
       "      <td>15</td>\n",
       "      <td>Single</td>\n",
       "      <td>2</td>\n",
       "      <td>3</td>\n",
       "      <td>31836</td>\n",
       "      <td>75</td>\n",
       "      <td>(14, 20]</td>\n",
       "      <td>Teens</td>\n",
       "    </tr>\n",
       "    <tr>\n",
       "      <th>2</th>\n",
       "      <td>KP281</td>\n",
       "      <td>19</td>\n",
       "      <td>Female</td>\n",
       "      <td>14</td>\n",
       "      <td>Partnered</td>\n",
       "      <td>4</td>\n",
       "      <td>3</td>\n",
       "      <td>30699</td>\n",
       "      <td>66</td>\n",
       "      <td>(14, 20]</td>\n",
       "      <td>Teens</td>\n",
       "    </tr>\n",
       "    <tr>\n",
       "      <th>3</th>\n",
       "      <td>KP281</td>\n",
       "      <td>19</td>\n",
       "      <td>Male</td>\n",
       "      <td>12</td>\n",
       "      <td>Single</td>\n",
       "      <td>3</td>\n",
       "      <td>3</td>\n",
       "      <td>32973</td>\n",
       "      <td>85</td>\n",
       "      <td>(14, 20]</td>\n",
       "      <td>Teens</td>\n",
       "    </tr>\n",
       "    <tr>\n",
       "      <th>4</th>\n",
       "      <td>KP281</td>\n",
       "      <td>20</td>\n",
       "      <td>Male</td>\n",
       "      <td>13</td>\n",
       "      <td>Partnered</td>\n",
       "      <td>4</td>\n",
       "      <td>2</td>\n",
       "      <td>35247</td>\n",
       "      <td>47</td>\n",
       "      <td>(14, 20]</td>\n",
       "      <td>Teens</td>\n",
       "    </tr>\n",
       "    <tr>\n",
       "      <th>...</th>\n",
       "      <td>...</td>\n",
       "      <td>...</td>\n",
       "      <td>...</td>\n",
       "      <td>...</td>\n",
       "      <td>...</td>\n",
       "      <td>...</td>\n",
       "      <td>...</td>\n",
       "      <td>...</td>\n",
       "      <td>...</td>\n",
       "      <td>...</td>\n",
       "      <td>...</td>\n",
       "    </tr>\n",
       "    <tr>\n",
       "      <th>175</th>\n",
       "      <td>KP781</td>\n",
       "      <td>40</td>\n",
       "      <td>Male</td>\n",
       "      <td>21</td>\n",
       "      <td>Single</td>\n",
       "      <td>6</td>\n",
       "      <td>5</td>\n",
       "      <td>83416</td>\n",
       "      <td>200</td>\n",
       "      <td>(30, 40]</td>\n",
       "      <td>30s</td>\n",
       "    </tr>\n",
       "    <tr>\n",
       "      <th>176</th>\n",
       "      <td>KP781</td>\n",
       "      <td>42</td>\n",
       "      <td>Male</td>\n",
       "      <td>18</td>\n",
       "      <td>Single</td>\n",
       "      <td>5</td>\n",
       "      <td>4</td>\n",
       "      <td>89641</td>\n",
       "      <td>200</td>\n",
       "      <td>(40, 60]</td>\n",
       "      <td>Above 40s</td>\n",
       "    </tr>\n",
       "    <tr>\n",
       "      <th>177</th>\n",
       "      <td>KP781</td>\n",
       "      <td>45</td>\n",
       "      <td>Male</td>\n",
       "      <td>16</td>\n",
       "      <td>Single</td>\n",
       "      <td>5</td>\n",
       "      <td>5</td>\n",
       "      <td>90886</td>\n",
       "      <td>160</td>\n",
       "      <td>(40, 60]</td>\n",
       "      <td>Above 40s</td>\n",
       "    </tr>\n",
       "    <tr>\n",
       "      <th>178</th>\n",
       "      <td>KP781</td>\n",
       "      <td>47</td>\n",
       "      <td>Male</td>\n",
       "      <td>18</td>\n",
       "      <td>Partnered</td>\n",
       "      <td>4</td>\n",
       "      <td>5</td>\n",
       "      <td>104581</td>\n",
       "      <td>120</td>\n",
       "      <td>(40, 60]</td>\n",
       "      <td>Above 40s</td>\n",
       "    </tr>\n",
       "    <tr>\n",
       "      <th>179</th>\n",
       "      <td>KP781</td>\n",
       "      <td>48</td>\n",
       "      <td>Male</td>\n",
       "      <td>18</td>\n",
       "      <td>Partnered</td>\n",
       "      <td>4</td>\n",
       "      <td>5</td>\n",
       "      <td>95508</td>\n",
       "      <td>180</td>\n",
       "      <td>(40, 60]</td>\n",
       "      <td>Above 40s</td>\n",
       "    </tr>\n",
       "  </tbody>\n",
       "</table>\n",
       "<p>180 rows × 11 columns</p>\n",
       "</div>"
      ],
      "text/plain": [
       "    Product  Age  Gender  Education MaritalStatus  Usage  Fitness  Income  \\\n",
       "0     KP281   18    Male         14        Single      3        4   29562   \n",
       "1     KP281   19    Male         15        Single      2        3   31836   \n",
       "2     KP281   19  Female         14     Partnered      4        3   30699   \n",
       "3     KP281   19    Male         12        Single      3        3   32973   \n",
       "4     KP281   20    Male         13     Partnered      4        2   35247   \n",
       "..      ...  ...     ...        ...           ...    ...      ...     ...   \n",
       "175   KP781   40    Male         21        Single      6        5   83416   \n",
       "176   KP781   42    Male         18        Single      5        4   89641   \n",
       "177   KP781   45    Male         16        Single      5        5   90886   \n",
       "178   KP781   47    Male         18     Partnered      4        5  104581   \n",
       "179   KP781   48    Male         18     Partnered      4        5   95508   \n",
       "\n",
       "     Miles  AgeGroup AgeCategory  \n",
       "0      112  (14, 20]       Teens  \n",
       "1       75  (14, 20]       Teens  \n",
       "2       66  (14, 20]       Teens  \n",
       "3       85  (14, 20]       Teens  \n",
       "4       47  (14, 20]       Teens  \n",
       "..     ...       ...         ...  \n",
       "175    200  (30, 40]         30s  \n",
       "176    200  (40, 60]   Above 40s  \n",
       "177    160  (40, 60]   Above 40s  \n",
       "178    120  (40, 60]   Above 40s  \n",
       "179    180  (40, 60]   Above 40s  \n",
       "\n",
       "[180 rows x 11 columns]"
      ]
     },
     "execution_count": 27,
     "metadata": {},
     "output_type": "execute_result"
    }
   ],
   "source": [
    "df2 = df.copy()\n",
    "\n",
    "# Adding 2 new features from Age:\n",
    "# \"AgeCategory\" - Teens, 20s, 30s and Above 40s\n",
    "# \"AgeGroup\" - 14-20 , 20-30, 30-40 & 40-60\n",
    "\n",
    "bins = [14,20,30,40,60]\n",
    "labels =[\"Teens\",\"20s\",\"30s\",\"Above 40s\"]\n",
    "df2['AgeGroup'] = pd.cut(df2['Age'], bins)\n",
    "df2['AgeCategory'] = pd.cut(df2['Age'], bins,labels=labels)\n",
    "df2"
   ]
  },
  {
   "cell_type": "code",
   "execution_count": 28,
   "id": "5f93f63f",
   "metadata": {},
   "outputs": [
    {
     "data": {
      "text/html": [
       "<div>\n",
       "<style scoped>\n",
       "    .dataframe tbody tr th:only-of-type {\n",
       "        vertical-align: middle;\n",
       "    }\n",
       "\n",
       "    .dataframe tbody tr th {\n",
       "        vertical-align: top;\n",
       "    }\n",
       "\n",
       "    .dataframe thead th {\n",
       "        text-align: right;\n",
       "    }\n",
       "</style>\n",
       "<table border=\"1\" class=\"dataframe\">\n",
       "  <thead>\n",
       "    <tr style=\"text-align: right;\">\n",
       "      <th>AgeCategory</th>\n",
       "      <th>Teens</th>\n",
       "      <th>20s</th>\n",
       "      <th>30s</th>\n",
       "      <th>Above 40s</th>\n",
       "      <th>All</th>\n",
       "    </tr>\n",
       "    <tr>\n",
       "      <th>Product</th>\n",
       "      <th></th>\n",
       "      <th></th>\n",
       "      <th></th>\n",
       "      <th></th>\n",
       "      <th></th>\n",
       "    </tr>\n",
       "  </thead>\n",
       "  <tbody>\n",
       "    <tr>\n",
       "      <th>KP281</th>\n",
       "      <td>6</td>\n",
       "      <td>49</td>\n",
       "      <td>19</td>\n",
       "      <td>6</td>\n",
       "      <td>80</td>\n",
       "    </tr>\n",
       "    <tr>\n",
       "      <th>KP481</th>\n",
       "      <td>4</td>\n",
       "      <td>31</td>\n",
       "      <td>23</td>\n",
       "      <td>2</td>\n",
       "      <td>60</td>\n",
       "    </tr>\n",
       "    <tr>\n",
       "      <th>KP781</th>\n",
       "      <td>0</td>\n",
       "      <td>30</td>\n",
       "      <td>6</td>\n",
       "      <td>4</td>\n",
       "      <td>40</td>\n",
       "    </tr>\n",
       "    <tr>\n",
       "      <th>All</th>\n",
       "      <td>10</td>\n",
       "      <td>110</td>\n",
       "      <td>48</td>\n",
       "      <td>12</td>\n",
       "      <td>180</td>\n",
       "    </tr>\n",
       "  </tbody>\n",
       "</table>\n",
       "</div>"
      ],
      "text/plain": [
       "AgeCategory  Teens  20s  30s  Above 40s  All\n",
       "Product                                     \n",
       "KP281            6   49   19          6   80\n",
       "KP481            4   31   23          2   60\n",
       "KP781            0   30    6          4   40\n",
       "All             10  110   48         12  180"
      ]
     },
     "execution_count": 28,
     "metadata": {},
     "output_type": "execute_result"
    }
   ],
   "source": [
    "product_age = pd.crosstab(index=df2['Product'], columns=[df2['AgeCategory']],margins=True)\n",
    "product_age"
   ]
  },
  {
   "cell_type": "code",
   "execution_count": 29,
   "id": "a027182b",
   "metadata": {},
   "outputs": [
    {
     "name": "stdout",
     "output_type": "stream",
     "text": [
      "P(Teens): 6.00\n",
      "P(20s): 61.00\n",
      "P(30s): 27.00\n",
      "P(Above 40s): 7.00\n"
     ]
    }
   ],
   "source": [
    "# Percentage of customers with Age groups among all customers\n",
    "for item in labels:\n",
    "    prob = round((product_age[item]['All'] / product_age['All']['All']),2)\n",
    "    pct = round(prob*100,2)\n",
    "    pct\n",
    "    print(f\"P({item}): {pct:.2f}\")"
   ]
  },
  {
   "cell_type": "code",
   "execution_count": 30,
   "id": "1badf556",
   "metadata": {},
   "outputs": [
    {
     "name": "stdout",
     "output_type": "stream",
     "text": [
      "P(Teens/KP281): 8.00\n",
      "P(Teens/KP481): 7.00\n",
      "P(Teens/KP781): 0.00\n",
      "\n",
      "P(20s/KP281): 61.00\n",
      "P(20s/KP481): 52.00\n",
      "P(20s/KP781): 75.00\n",
      "\n",
      "P(30s/KP281): 24.00\n",
      "P(30s/KP481): 38.00\n",
      "P(30s/KP781): 15.00\n",
      "\n",
      "P(Above 40s/KP281): 8.00\n",
      "P(Above 40s/KP481): 3.00\n",
      "P(Above 40s/KP781): 10.00\n",
      "\n"
     ]
    }
   ],
   "source": [
    "# Probability of a customer being a certain age given that Product is one of the treadmills\n",
    "#P(A|B) = P(A,B)/P(B) - Bayes' Theorem\n",
    "#P(Age Group|KP281) = P(Age Group,Product)/P(Product)\n",
    "\n",
    "for item in labels:\n",
    "    prob = round((product_age[item]['KP281'] / product_age['All']['KP281']),2)\n",
    "    pct_1 = round(prob*100,2)\n",
    "    pct_1\n",
    "\n",
    "    prob = round((product_age[item]['KP481'] / product_age['All']['KP481']),2)\n",
    "    pct_2 = round(prob*100,2)\n",
    "    pct_2\n",
    "\n",
    "    prob = round((product_age[item]['KP781'] / product_age['All']['KP781']),2)\n",
    "    pct_3 = round(prob*100,2)\n",
    "    pct_3\n",
    "\n",
    "    print(f\"P({item}/KP281): {pct_1:.2f}\") \n",
    "    print(f\"P({item}/KP481): {pct_2:.2f}\")\n",
    "    print(f\"P({item}/KP781): {pct_3:.2f}\\n\")"
   ]
  },
  {
   "cell_type": "markdown",
   "id": "9e30f6d6",
   "metadata": {},
   "source": [
    "#### Observations:\n",
    "- Teens and above 40's do not buy many treadmills \n",
    "- 61% of customers are in their 20's and each of the treadmill is most popular among people in their 20's\n",
    "- People above 40's tend to prefer the KP781"
   ]
  },
  {
   "cell_type": "markdown",
   "id": "ce486fb2",
   "metadata": {},
   "source": [
    "### Product - Income Conditional Probabilities\n",
    "Since there are many incomes, we will put them in categories and find probabilites for those categories"
   ]
  },
  {
   "cell_type": "code",
   "execution_count": 31,
   "id": "c6f0debe",
   "metadata": {},
   "outputs": [
    {
     "data": {
      "text/html": [
       "<div>\n",
       "<style scoped>\n",
       "    .dataframe tbody tr th:only-of-type {\n",
       "        vertical-align: middle;\n",
       "    }\n",
       "\n",
       "    .dataframe tbody tr th {\n",
       "        vertical-align: top;\n",
       "    }\n",
       "\n",
       "    .dataframe thead th {\n",
       "        text-align: right;\n",
       "    }\n",
       "</style>\n",
       "<table border=\"1\" class=\"dataframe\">\n",
       "  <thead>\n",
       "    <tr style=\"text-align: right;\">\n",
       "      <th></th>\n",
       "      <th>Product</th>\n",
       "      <th>Age</th>\n",
       "      <th>Gender</th>\n",
       "      <th>Education</th>\n",
       "      <th>MaritalStatus</th>\n",
       "      <th>Usage</th>\n",
       "      <th>Fitness</th>\n",
       "      <th>Income</th>\n",
       "      <th>Miles</th>\n",
       "      <th>IncomeCategory</th>\n",
       "    </tr>\n",
       "  </thead>\n",
       "  <tbody>\n",
       "    <tr>\n",
       "      <th>0</th>\n",
       "      <td>KP281</td>\n",
       "      <td>18</td>\n",
       "      <td>Male</td>\n",
       "      <td>14</td>\n",
       "      <td>Single</td>\n",
       "      <td>3</td>\n",
       "      <td>4</td>\n",
       "      <td>29562</td>\n",
       "      <td>112</td>\n",
       "      <td>Low Income</td>\n",
       "    </tr>\n",
       "    <tr>\n",
       "      <th>1</th>\n",
       "      <td>KP281</td>\n",
       "      <td>19</td>\n",
       "      <td>Male</td>\n",
       "      <td>15</td>\n",
       "      <td>Single</td>\n",
       "      <td>2</td>\n",
       "      <td>3</td>\n",
       "      <td>31836</td>\n",
       "      <td>75</td>\n",
       "      <td>Low Income</td>\n",
       "    </tr>\n",
       "    <tr>\n",
       "      <th>2</th>\n",
       "      <td>KP281</td>\n",
       "      <td>19</td>\n",
       "      <td>Female</td>\n",
       "      <td>14</td>\n",
       "      <td>Partnered</td>\n",
       "      <td>4</td>\n",
       "      <td>3</td>\n",
       "      <td>30699</td>\n",
       "      <td>66</td>\n",
       "      <td>Low Income</td>\n",
       "    </tr>\n",
       "    <tr>\n",
       "      <th>3</th>\n",
       "      <td>KP281</td>\n",
       "      <td>19</td>\n",
       "      <td>Male</td>\n",
       "      <td>12</td>\n",
       "      <td>Single</td>\n",
       "      <td>3</td>\n",
       "      <td>3</td>\n",
       "      <td>32973</td>\n",
       "      <td>85</td>\n",
       "      <td>Low Income</td>\n",
       "    </tr>\n",
       "    <tr>\n",
       "      <th>4</th>\n",
       "      <td>KP281</td>\n",
       "      <td>20</td>\n",
       "      <td>Male</td>\n",
       "      <td>13</td>\n",
       "      <td>Partnered</td>\n",
       "      <td>4</td>\n",
       "      <td>2</td>\n",
       "      <td>35247</td>\n",
       "      <td>47</td>\n",
       "      <td>Lower-middle Income</td>\n",
       "    </tr>\n",
       "    <tr>\n",
       "      <th>...</th>\n",
       "      <td>...</td>\n",
       "      <td>...</td>\n",
       "      <td>...</td>\n",
       "      <td>...</td>\n",
       "      <td>...</td>\n",
       "      <td>...</td>\n",
       "      <td>...</td>\n",
       "      <td>...</td>\n",
       "      <td>...</td>\n",
       "      <td>...</td>\n",
       "    </tr>\n",
       "    <tr>\n",
       "      <th>175</th>\n",
       "      <td>KP781</td>\n",
       "      <td>40</td>\n",
       "      <td>Male</td>\n",
       "      <td>21</td>\n",
       "      <td>Single</td>\n",
       "      <td>6</td>\n",
       "      <td>5</td>\n",
       "      <td>83416</td>\n",
       "      <td>200</td>\n",
       "      <td>Upper-Middle Income</td>\n",
       "    </tr>\n",
       "    <tr>\n",
       "      <th>176</th>\n",
       "      <td>KP781</td>\n",
       "      <td>42</td>\n",
       "      <td>Male</td>\n",
       "      <td>18</td>\n",
       "      <td>Single</td>\n",
       "      <td>5</td>\n",
       "      <td>4</td>\n",
       "      <td>89641</td>\n",
       "      <td>200</td>\n",
       "      <td>High Income</td>\n",
       "    </tr>\n",
       "    <tr>\n",
       "      <th>177</th>\n",
       "      <td>KP781</td>\n",
       "      <td>45</td>\n",
       "      <td>Male</td>\n",
       "      <td>16</td>\n",
       "      <td>Single</td>\n",
       "      <td>5</td>\n",
       "      <td>5</td>\n",
       "      <td>90886</td>\n",
       "      <td>160</td>\n",
       "      <td>High Income</td>\n",
       "    </tr>\n",
       "    <tr>\n",
       "      <th>178</th>\n",
       "      <td>KP781</td>\n",
       "      <td>47</td>\n",
       "      <td>Male</td>\n",
       "      <td>18</td>\n",
       "      <td>Partnered</td>\n",
       "      <td>4</td>\n",
       "      <td>5</td>\n",
       "      <td>104581</td>\n",
       "      <td>120</td>\n",
       "      <td>High Income</td>\n",
       "    </tr>\n",
       "    <tr>\n",
       "      <th>179</th>\n",
       "      <td>KP781</td>\n",
       "      <td>48</td>\n",
       "      <td>Male</td>\n",
       "      <td>18</td>\n",
       "      <td>Partnered</td>\n",
       "      <td>4</td>\n",
       "      <td>5</td>\n",
       "      <td>95508</td>\n",
       "      <td>180</td>\n",
       "      <td>High Income</td>\n",
       "    </tr>\n",
       "  </tbody>\n",
       "</table>\n",
       "<p>180 rows × 10 columns</p>\n",
       "</div>"
      ],
      "text/plain": [
       "    Product  Age  Gender  Education MaritalStatus  Usage  Fitness  Income  \\\n",
       "0     KP281   18    Male         14        Single      3        4   29562   \n",
       "1     KP281   19    Male         15        Single      2        3   31836   \n",
       "2     KP281   19  Female         14     Partnered      4        3   30699   \n",
       "3     KP281   19    Male         12        Single      3        3   32973   \n",
       "4     KP281   20    Male         13     Partnered      4        2   35247   \n",
       "..      ...  ...     ...        ...           ...    ...      ...     ...   \n",
       "175   KP781   40    Male         21        Single      6        5   83416   \n",
       "176   KP781   42    Male         18        Single      5        4   89641   \n",
       "177   KP781   45    Male         16        Single      5        5   90886   \n",
       "178   KP781   47    Male         18     Partnered      4        5  104581   \n",
       "179   KP781   48    Male         18     Partnered      4        5   95508   \n",
       "\n",
       "     Miles       IncomeCategory  \n",
       "0      112           Low Income  \n",
       "1       75           Low Income  \n",
       "2       66           Low Income  \n",
       "3       85           Low Income  \n",
       "4       47  Lower-middle Income  \n",
       "..     ...                  ...  \n",
       "175    200  Upper-Middle Income  \n",
       "176    200          High Income  \n",
       "177    160          High Income  \n",
       "178    120          High Income  \n",
       "179    180          High Income  \n",
       "\n",
       "[180 rows x 10 columns]"
      ]
     },
     "execution_count": 31,
     "metadata": {},
     "output_type": "execute_result"
    }
   ],
   "source": [
    "df3 = df.copy()\n",
    "bins_income = [29000, 35000, 60000, 85000, 105000]\n",
    "labels_income = ['Low Income','Lower-middle Income','Upper-Middle Income', 'High Income']\n",
    "df3['IncomeCategory'] = pd.cut(df3['Income'],bins_income,labels = labels_income)\n",
    "df3"
   ]
  },
  {
   "cell_type": "code",
   "execution_count": 32,
   "id": "b8219eb5",
   "metadata": {},
   "outputs": [
    {
     "data": {
      "text/html": [
       "<div>\n",
       "<style scoped>\n",
       "    .dataframe tbody tr th:only-of-type {\n",
       "        vertical-align: middle;\n",
       "    }\n",
       "\n",
       "    .dataframe tbody tr th {\n",
       "        vertical-align: top;\n",
       "    }\n",
       "\n",
       "    .dataframe thead th {\n",
       "        text-align: right;\n",
       "    }\n",
       "</style>\n",
       "<table border=\"1\" class=\"dataframe\">\n",
       "  <thead>\n",
       "    <tr style=\"text-align: right;\">\n",
       "      <th>IncomeCategory</th>\n",
       "      <th>Low Income</th>\n",
       "      <th>Lower-middle Income</th>\n",
       "      <th>Upper-Middle Income</th>\n",
       "      <th>High Income</th>\n",
       "      <th>All</th>\n",
       "    </tr>\n",
       "    <tr>\n",
       "      <th>Product</th>\n",
       "      <th></th>\n",
       "      <th></th>\n",
       "      <th></th>\n",
       "      <th></th>\n",
       "      <th></th>\n",
       "    </tr>\n",
       "  </thead>\n",
       "  <tbody>\n",
       "    <tr>\n",
       "      <th>KP281</th>\n",
       "      <td>8</td>\n",
       "      <td>66</td>\n",
       "      <td>6</td>\n",
       "      <td>0</td>\n",
       "      <td>80</td>\n",
       "    </tr>\n",
       "    <tr>\n",
       "      <th>KP481</th>\n",
       "      <td>6</td>\n",
       "      <td>47</td>\n",
       "      <td>7</td>\n",
       "      <td>0</td>\n",
       "      <td>60</td>\n",
       "    </tr>\n",
       "    <tr>\n",
       "      <th>KP781</th>\n",
       "      <td>0</td>\n",
       "      <td>11</td>\n",
       "      <td>12</td>\n",
       "      <td>17</td>\n",
       "      <td>40</td>\n",
       "    </tr>\n",
       "    <tr>\n",
       "      <th>All</th>\n",
       "      <td>14</td>\n",
       "      <td>124</td>\n",
       "      <td>25</td>\n",
       "      <td>17</td>\n",
       "      <td>180</td>\n",
       "    </tr>\n",
       "  </tbody>\n",
       "</table>\n",
       "</div>"
      ],
      "text/plain": [
       "IncomeCategory  Low Income  Lower-middle Income  Upper-Middle Income  \\\n",
       "Product                                                                \n",
       "KP281                    8                   66                    6   \n",
       "KP481                    6                   47                    7   \n",
       "KP781                    0                   11                   12   \n",
       "All                     14                  124                   25   \n",
       "\n",
       "IncomeCategory  High Income  All  \n",
       "Product                           \n",
       "KP281                     0   80  \n",
       "KP481                     0   60  \n",
       "KP781                    17   40  \n",
       "All                      17  180  "
      ]
     },
     "execution_count": 32,
     "metadata": {},
     "output_type": "execute_result"
    }
   ],
   "source": [
    "product_income = pd.crosstab(index=df3['Product'], columns=[df3['IncomeCategory']],margins=True)\n",
    "product_income"
   ]
  },
  {
   "cell_type": "code",
   "execution_count": 33,
   "id": "f25a91ad",
   "metadata": {},
   "outputs": [
    {
     "name": "stdout",
     "output_type": "stream",
     "text": [
      "P(Low Income): 8.00\n",
      "P(Lower-middle Income): 69.00\n",
      "P(Upper-Middle Income): 14.00\n",
      "P(High Income): 9.00\n"
     ]
    }
   ],
   "source": [
    "# Percentage of customers with income groups among all customers\n",
    "for item in labels_income:\n",
    "    prob = round((product_income[item]['All'] / product_income['All']['All']),2)\n",
    "    pct = round(prob*100,2)\n",
    "    pct\n",
    "    print(f\"P({item}): {pct:.2f}\")"
   ]
  },
  {
   "cell_type": "code",
   "execution_count": 34,
   "id": "3bb4a75d",
   "metadata": {},
   "outputs": [
    {
     "name": "stdout",
     "output_type": "stream",
     "text": [
      "P(Low Income/KP281): 10.00\n",
      "P(Low Income/KP481): 10.00\n",
      "P(Low Income/KP781): 0.00\n",
      "\n",
      "P(Lower-middle Income/KP281): 82.00\n",
      "P(Lower-middle Income/KP481): 78.00\n",
      "P(Lower-middle Income/KP781): 28.00\n",
      "\n",
      "P(Upper-Middle Income/KP281): 8.00\n",
      "P(Upper-Middle Income/KP481): 12.00\n",
      "P(Upper-Middle Income/KP781): 30.00\n",
      "\n",
      "P(High Income/KP281): 0.00\n",
      "P(High Income/KP481): 0.00\n",
      "P(High Income/KP781): 42.00\n",
      "\n"
     ]
    }
   ],
   "source": [
    "# Probability of a customer being a certain income group given that Product is one of the treadmills\n",
    "#P(A|B) = P(A,B)/P(B) - Bayes' Theorem\n",
    "#P(Income Group|KP281) = P(Income Group,Product)/P(Product)\n",
    "\n",
    "for item in labels_income:\n",
    "    prob = round((product_income[item]['KP281'] / product_income['All']['KP281']),2)\n",
    "    pct_1 = round(prob*100,2)\n",
    "    pct_1\n",
    "\n",
    "    prob = round((product_income[item]['KP481'] / product_income['All']['KP481']),2)\n",
    "    pct_2 = round(prob*100,2)\n",
    "    pct_2\n",
    "\n",
    "    prob = round((product_income[item]['KP781'] / product_income['All']['KP781']),2)\n",
    "    pct_3 = round(prob*100,2)\n",
    "    pct_3\n",
    "\n",
    "    print(f\"P({item}/KP281): {pct_1:.2f}\") \n",
    "    print(f\"P({item}/KP481): {pct_2:.2f}\")\n",
    "    print(f\"P({item}/KP781): {pct_3:.2f}\\n\")"
   ]
  },
  {
   "cell_type": "markdown",
   "id": "889cf2b0",
   "metadata": {},
   "source": [
    "#### Observations:\n",
    "- Lower-middle income earners buy the most treadmills \n",
    "- 69% of customers are earning Lower-middle income and each of the treadmill is most popular among people in this income group\n",
    "- High Income earners only buy the KP781\n",
    "- Upper-Middle income earners tend to prefer the KP781"
   ]
  },
  {
   "cell_type": "markdown",
   "id": "3e394ce9",
   "metadata": {},
   "source": [
    "### Product - Fitness Conditional Probabilities"
   ]
  },
  {
   "cell_type": "code",
   "execution_count": 35,
   "id": "be7145f2",
   "metadata": {},
   "outputs": [
    {
     "data": {
      "text/html": [
       "<div>\n",
       "<style scoped>\n",
       "    .dataframe tbody tr th:only-of-type {\n",
       "        vertical-align: middle;\n",
       "    }\n",
       "\n",
       "    .dataframe tbody tr th {\n",
       "        vertical-align: top;\n",
       "    }\n",
       "\n",
       "    .dataframe thead th {\n",
       "        text-align: right;\n",
       "    }\n",
       "</style>\n",
       "<table border=\"1\" class=\"dataframe\">\n",
       "  <thead>\n",
       "    <tr style=\"text-align: right;\">\n",
       "      <th>Fitness</th>\n",
       "      <th>1</th>\n",
       "      <th>2</th>\n",
       "      <th>3</th>\n",
       "      <th>4</th>\n",
       "      <th>5</th>\n",
       "      <th>All</th>\n",
       "    </tr>\n",
       "    <tr>\n",
       "      <th>Product</th>\n",
       "      <th></th>\n",
       "      <th></th>\n",
       "      <th></th>\n",
       "      <th></th>\n",
       "      <th></th>\n",
       "      <th></th>\n",
       "    </tr>\n",
       "  </thead>\n",
       "  <tbody>\n",
       "    <tr>\n",
       "      <th>KP281</th>\n",
       "      <td>1</td>\n",
       "      <td>14</td>\n",
       "      <td>54</td>\n",
       "      <td>9</td>\n",
       "      <td>2</td>\n",
       "      <td>80</td>\n",
       "    </tr>\n",
       "    <tr>\n",
       "      <th>KP481</th>\n",
       "      <td>1</td>\n",
       "      <td>12</td>\n",
       "      <td>39</td>\n",
       "      <td>8</td>\n",
       "      <td>0</td>\n",
       "      <td>60</td>\n",
       "    </tr>\n",
       "    <tr>\n",
       "      <th>KP781</th>\n",
       "      <td>0</td>\n",
       "      <td>0</td>\n",
       "      <td>4</td>\n",
       "      <td>7</td>\n",
       "      <td>29</td>\n",
       "      <td>40</td>\n",
       "    </tr>\n",
       "    <tr>\n",
       "      <th>All</th>\n",
       "      <td>2</td>\n",
       "      <td>26</td>\n",
       "      <td>97</td>\n",
       "      <td>24</td>\n",
       "      <td>31</td>\n",
       "      <td>180</td>\n",
       "    </tr>\n",
       "  </tbody>\n",
       "</table>\n",
       "</div>"
      ],
      "text/plain": [
       "Fitness  1   2   3   4   5  All\n",
       "Product                        \n",
       "KP281    1  14  54   9   2   80\n",
       "KP481    1  12  39   8   0   60\n",
       "KP781    0   0   4   7  29   40\n",
       "All      2  26  97  24  31  180"
      ]
     },
     "execution_count": 35,
     "metadata": {},
     "output_type": "execute_result"
    }
   ],
   "source": [
    "product_fitness = pd.crosstab(index=df['Product'], columns=[df['Fitness']],margins=True)\n",
    "product_fitness"
   ]
  },
  {
   "cell_type": "code",
   "execution_count": 36,
   "id": "d8074dc6",
   "metadata": {
    "scrolled": true
   },
   "outputs": [
    {
     "name": "stdout",
     "output_type": "stream",
     "text": [
      "P(1): 1.00\n",
      "P(2): 14.00\n",
      "P(3): 54.00\n",
      "P(4): 13.00\n",
      "P(5): 17.00\n"
     ]
    }
   ],
   "source": [
    "fitness = [1,2,3,4,5]\n",
    "for item in fitness:\n",
    "    prob = round((product_fitness[item]['All'] / product_fitness['All']['All']),2)\n",
    "    pct_1 = round(prob*100,2)\n",
    "    pct_1\n",
    "    print(f\"P({item}): {pct_1:.2f}\")"
   ]
  },
  {
   "cell_type": "code",
   "execution_count": 37,
   "id": "55b4e1c9",
   "metadata": {},
   "outputs": [
    {
     "name": "stdout",
     "output_type": "stream",
     "text": [
      "P(1/KP281): 1.00\n",
      "P(1/KP481): 2.00\n",
      "P(1/KP781): 0.00\n",
      "\n",
      "P(2/KP281): 18.00\n",
      "P(2/KP481): 20.00\n",
      "P(2/KP781): 0.00\n",
      "\n",
      "P(3/KP281): 68.00\n",
      "P(3/KP481): 65.00\n",
      "P(3/KP781): 10.00\n",
      "\n",
      "P(4/KP281): 11.00\n",
      "P(4/KP481): 13.00\n",
      "P(4/KP781): 18.00\n",
      "\n",
      "P(5/KP281): 2.00\n",
      "P(5/KP481): 0.00\n",
      "P(5/KP781): 72.00\n",
      "\n"
     ]
    }
   ],
   "source": [
    "for item in fitness:\n",
    "    prob = round((product_fitness[item]['KP281'] / product_fitness['All']['KP281']),2)\n",
    "    pct_1 = round(prob*100,2)\n",
    "    pct_1\n",
    "\n",
    "    prob = round((product_fitness[item]['KP481'] / product_fitness['All']['KP481']),2)\n",
    "    pct_2 = round(prob*100,2)\n",
    "    pct_2\n",
    "\n",
    "    prob = round((product_fitness[item]['KP781'] / product_fitness['All']['KP781']),2)\n",
    "    pct_3 = round(prob*100,2)\n",
    "    pct_3\n",
    "\n",
    "    print(f\"P({item}/KP281): {pct_1:.2f}\") \n",
    "    print(f\"P({item}/KP481): {pct_2:.2f}\")\n",
    "    print(f\"P({item}/KP781): {pct_3:.2f}\\n\")"
   ]
  },
  {
   "cell_type": "markdown",
   "id": "18a2336a",
   "metadata": {},
   "source": [
    "#### Observations:\n",
    "- Fitness level 3 buy the most treadmills \n",
    "- 54% of customers are Fitness Level 3 and KP281 and KP481 treadmills are the most popular among people in this fitness group\n",
    "- Fitness level 5 mainly buy the KP781"
   ]
  },
  {
   "cell_type": "markdown",
   "id": "c9bf6a7e",
   "metadata": {},
   "source": [
    "### Product - Marital Status Conditional Probabilities"
   ]
  },
  {
   "cell_type": "code",
   "execution_count": 38,
   "id": "082f7f45",
   "metadata": {},
   "outputs": [
    {
     "data": {
      "text/html": [
       "<div>\n",
       "<style scoped>\n",
       "    .dataframe tbody tr th:only-of-type {\n",
       "        vertical-align: middle;\n",
       "    }\n",
       "\n",
       "    .dataframe tbody tr th {\n",
       "        vertical-align: top;\n",
       "    }\n",
       "\n",
       "    .dataframe thead th {\n",
       "        text-align: right;\n",
       "    }\n",
       "</style>\n",
       "<table border=\"1\" class=\"dataframe\">\n",
       "  <thead>\n",
       "    <tr style=\"text-align: right;\">\n",
       "      <th>MaritalStatus</th>\n",
       "      <th>Partnered</th>\n",
       "      <th>Single</th>\n",
       "      <th>All</th>\n",
       "    </tr>\n",
       "    <tr>\n",
       "      <th>Product</th>\n",
       "      <th></th>\n",
       "      <th></th>\n",
       "      <th></th>\n",
       "    </tr>\n",
       "  </thead>\n",
       "  <tbody>\n",
       "    <tr>\n",
       "      <th>KP281</th>\n",
       "      <td>48</td>\n",
       "      <td>32</td>\n",
       "      <td>80</td>\n",
       "    </tr>\n",
       "    <tr>\n",
       "      <th>KP481</th>\n",
       "      <td>36</td>\n",
       "      <td>24</td>\n",
       "      <td>60</td>\n",
       "    </tr>\n",
       "    <tr>\n",
       "      <th>KP781</th>\n",
       "      <td>23</td>\n",
       "      <td>17</td>\n",
       "      <td>40</td>\n",
       "    </tr>\n",
       "    <tr>\n",
       "      <th>All</th>\n",
       "      <td>107</td>\n",
       "      <td>73</td>\n",
       "      <td>180</td>\n",
       "    </tr>\n",
       "  </tbody>\n",
       "</table>\n",
       "</div>"
      ],
      "text/plain": [
       "MaritalStatus  Partnered  Single  All\n",
       "Product                              \n",
       "KP281                 48      32   80\n",
       "KP481                 36      24   60\n",
       "KP781                 23      17   40\n",
       "All                  107      73  180"
      ]
     },
     "execution_count": 38,
     "metadata": {},
     "output_type": "execute_result"
    }
   ],
   "source": [
    "product_marital = pd.crosstab(index=df['Product'], columns=[df['MaritalStatus']],margins=True)\n",
    "product_marital"
   ]
  },
  {
   "cell_type": "code",
   "execution_count": 39,
   "id": "b59c1722",
   "metadata": {},
   "outputs": [
    {
     "name": "stdout",
     "output_type": "stream",
     "text": [
      "P(Single): 41.00\n",
      "P(Partnered): 59.00\n"
     ]
    }
   ],
   "source": [
    "status = ['Single', 'Partnered']\n",
    "for item in status:\n",
    "    prob = round((product_marital[item]['All'] / product_marital['All']['All']),2)\n",
    "    pct_1 = round(prob*100,2)\n",
    "    pct_1\n",
    "    print(f\"P({item}): {pct_1:.2f}\")"
   ]
  },
  {
   "cell_type": "code",
   "execution_count": 40,
   "id": "851834fb",
   "metadata": {},
   "outputs": [
    {
     "name": "stdout",
     "output_type": "stream",
     "text": [
      "P(Single/KP281): 40.00\n",
      "P(Single/KP481): 40.00\n",
      "P(Single/KP781): 42.00\n",
      "\n",
      "P(Partnered/KP281): 60.00\n",
      "P(Partnered/KP481): 60.00\n",
      "P(Partnered/KP781): 57.00\n",
      "\n"
     ]
    }
   ],
   "source": [
    "for item in status:\n",
    "    prob = round((product_marital[item]['KP281'] / product_marital['All']['KP281']),2)\n",
    "    pct_1 = round(prob*100,2)\n",
    "    pct_1\n",
    "\n",
    "    prob = round((product_marital[item]['KP481'] / product_marital['All']['KP481']),2)\n",
    "    pct_2 = round(prob*100,2)\n",
    "    pct_2\n",
    "\n",
    "    prob = round((product_marital[item]['KP781'] / product_marital['All']['KP781']),2)\n",
    "    pct_3 = round(prob*100,2)\n",
    "    pct_3\n",
    "\n",
    "    print(f\"P({item}/KP281): {pct_1:.2f}\") \n",
    "    print(f\"P({item}/KP481): {pct_2:.2f}\")\n",
    "    print(f\"P({item}/KP781): {pct_3:.2f}\\n\")"
   ]
  },
  {
   "cell_type": "markdown",
   "id": "b77fe97c",
   "metadata": {},
   "source": [
    "#### Observations:\n",
    "- Partenered buy the most treadmills \n",
    "- 59% of customers are partnered and all treadmills are the most popular among people in this status group. They buy each treadmill equally"
   ]
  },
  {
   "cell_type": "markdown",
   "id": "9a8bcfa1",
   "metadata": {},
   "source": [
    "## Outliers\n",
    "Can be detected using box plots, replot of the box plot earlier"
   ]
  },
  {
   "cell_type": "code",
   "execution_count": 41,
   "id": "600ebbd0",
   "metadata": {},
   "outputs": [
    {
     "data": {
      "image/png": "[encoded data removed]",
      "text/plain": [
       "<Figure size 864x720 with 6 Axes>"
      ]
     },
     "metadata": {},
     "output_type": "display_data"
    }
   ],
   "source": [
    "# Show outliers in the values\n",
    "fig, axis = plt.subplots(nrows=3, ncols=2, figsize=(12, 10))\n",
    "fig.subplots_adjust(top=1.2)\n",
    "\n",
    "sns.boxplot(data=df, x=\"Age\", orient='h', ax=axis[0,0])\n",
    "sns.boxplot(data=df, x=\"Education\", orient='h', ax=axis[0,1])\n",
    "sns.boxplot(data=df, x=\"Usage\", orient='h', ax=axis[1,0])\n",
    "sns.boxplot(data=df, x=\"Fitness\", orient='h', ax=axis[1,1])\n",
    "sns.boxplot(data=df, x=\"Income\", orient='h', ax=axis[2,0])\n",
    "sns.boxplot(data=df, x=\"Miles\", orient='h', ax=axis[2,1])\n",
    "plt.show()"
   ]
  },
  {
   "cell_type": "markdown",
   "id": "6b4a291e",
   "metadata": {},
   "source": [
    "#### Observations:\n",
    "- Income and miles have the most outliers as we can see by the multiple black dots outside the whiskers\n",
    "- Only a few customers run more than 180 miles per week"
   ]
  },
  {
   "cell_type": "markdown",
   "id": "11db80a2",
   "metadata": {},
   "source": [
    "### Handling Outliers for Income and Miles\n",
    "A commonly used rule says that a data point is an outlier if it is more than 1.5 times above the third quartile or below the first quartile."
   ]
  },
  {
   "cell_type": "code",
   "execution_count": 42,
   "id": "92280ab0",
   "metadata": {},
   "outputs": [
    {
     "data": {
      "image/png": "[encoded data removed]",
      "text/plain": [
       "<Figure size 432x288 with 1 Axes>"
      ]
     },
     "metadata": {},
     "output_type": "display_data"
    }
   ],
   "source": [
    "df4 = df.copy()\n",
    "\n",
    "#Outlier Treatment: Removing using the IQR rule\n",
    "Q3 = df4['Income'].quantile(0.75)\n",
    "Q1 = df4['Income'].quantile(0.25)\n",
    "IQR = Q3-Q1\n",
    "df4 = df4[(df4['Income'] > Q1 - 1.5*IQR) & (df4['Income'] < Q3 + 1.5*IQR)]\n",
    "\n",
    "sns.boxplot(data=df4, x=\"Income\", orient='h')\n",
    "plt.show()"
   ]
  },
  {
   "cell_type": "code",
   "execution_count": 43,
   "id": "75a3bc95",
   "metadata": {},
   "outputs": [
    {
     "data": {
      "image/png": "[encoded data removed]",
      "text/plain": [
       "<Figure size 432x288 with 1 Axes>"
      ]
     },
     "metadata": {},
     "output_type": "display_data"
    }
   ],
   "source": [
    "#Outlier Treatment: Removing using the IQR rule\n",
    "Q3 = df4['Miles'].quantile(0.75)\n",
    "Q1 = df4['Miles'].quantile(0.25)\n",
    "IQR = Q3-Q1\n",
    "df4 = df4[(df4['Miles'] > Q1 - 1.5*IQR) & (df4['Miles'] < Q3 + 1.5*IQR)]\n",
    "\n",
    "sns.boxplot(data=df4, x=\"Miles\", orient='h')\n",
    "plt.show()"
   ]
  },
  {
   "cell_type": "code",
   "execution_count": 44,
   "id": "3a095b00",
   "metadata": {},
   "outputs": [
    {
     "data": {
      "text/plain": [
       "(180, 9)"
      ]
     },
     "execution_count": 44,
     "metadata": {},
     "output_type": "execute_result"
    }
   ],
   "source": [
    "df.shape"
   ]
  },
  {
   "cell_type": "code",
   "execution_count": 45,
   "id": "96645d73",
   "metadata": {},
   "outputs": [
    {
     "data": {
      "text/plain": [
       "(147, 9)"
      ]
     },
     "execution_count": 45,
     "metadata": {},
     "output_type": "execute_result"
    }
   ],
   "source": [
    "df4.shape"
   ]
  },
  {
   "cell_type": "markdown",
   "id": "d61c3dc4",
   "metadata": {},
   "source": [
    "#### Observations:\n",
    "- After removing the outliers, we have removed 33 rows. There are still some but not as many. Outliers can provide insights for high-end models, so should not be removed for further analysis."
   ]
  },
  {
   "cell_type": "markdown",
   "id": "ebe2b8d8",
   "metadata": {},
   "source": [
    "## Actionable Insights and Recommendations\n",
    "\n",
    "### Actionable Insights:\n",
    "- KP281 is the most sold treadmill at 44%.\n",
    "- 88% of customers are purchased by customers between 20 and 40 years of age.\n",
    "- Miles and Fitness & Miles and Usuage are highly correlated, which means if a customer's fitness level is high they use more treadmills.\n",
    "- KP781 is the only model purchased by people with high education and high income.\n",
    "- People with higher fitness tend to use higher end treadmill which have more features and their average number of miles is also higher.\n",
    "- Majority of treadmill customers earn between 35,000 and 85,000 which is 83%\n",
    "\n",
    "### Recommendations:\n",
    "- KP281 and KP481 are the more affordable models, however if its possible to reduce features in KP281 and lower the cost. We can try to attract more low income earners to buy KP281 therefore increasing sales.\n",
    "- KP781 should be advertised as a premium model and try to attract more runners and higher income earners to this product. The premium status can create an idea of it being made with higher quality and exclusivity which can result in higher sales.\n",
    "- See if it is possible to attract more customers with low income, to expand its customer base. And if there is enough demand, see if it is possible to create a more affordable treadmill with less features for this income group"
   ]
  },
  {
   "cell_type": "markdown",
   "id": "a94cbc8d",
   "metadata": {},
   "source": [
    "## Machine Learning\n",
    "Creating ML algorithms to see if we can create a model to accurately predict which model of treadmill the consumer will buy. The challenge will be to create an accurate model as the amount of data points are low, more data is better to create more accurate models!"
   ]
  },
  {
   "cell_type": "code",
   "execution_count": 46,
   "id": "dd20ac45",
   "metadata": {},
   "outputs": [],
   "source": [
    "mldf = df.copy()"
   ]
  },
  {
   "cell_type": "code",
   "execution_count": 47,
   "id": "311ffed5",
   "metadata": {},
   "outputs": [],
   "source": [
    "cat_col = mldf.select_dtypes(['category']).columns"
   ]
  },
  {
   "cell_type": "code",
   "execution_count": 48,
   "id": "c813b420",
   "metadata": {},
   "outputs": [],
   "source": [
    "mldf[cat_col] = mldf[cat_col].apply(lambda x: x.cat.codes)"
   ]
  },
  {
   "cell_type": "code",
   "execution_count": 49,
   "id": "0f5c7e83",
   "metadata": {},
   "outputs": [
    {
     "data": {
      "text/html": [
       "<div>\n",
       "<style scoped>\n",
       "    .dataframe tbody tr th:only-of-type {\n",
       "        vertical-align: middle;\n",
       "    }\n",
       "\n",
       "    .dataframe tbody tr th {\n",
       "        vertical-align: top;\n",
       "    }\n",
       "\n",
       "    .dataframe thead th {\n",
       "        text-align: right;\n",
       "    }\n",
       "</style>\n",
       "<table border=\"1\" class=\"dataframe\">\n",
       "  <thead>\n",
       "    <tr style=\"text-align: right;\">\n",
       "      <th></th>\n",
       "      <th>Product</th>\n",
       "      <th>Age</th>\n",
       "      <th>Gender</th>\n",
       "      <th>Education</th>\n",
       "      <th>MaritalStatus</th>\n",
       "      <th>Usage</th>\n",
       "      <th>Fitness</th>\n",
       "      <th>Income</th>\n",
       "      <th>Miles</th>\n",
       "    </tr>\n",
       "  </thead>\n",
       "  <tbody>\n",
       "    <tr>\n",
       "      <th>0</th>\n",
       "      <td>0</td>\n",
       "      <td>18</td>\n",
       "      <td>1</td>\n",
       "      <td>14</td>\n",
       "      <td>1</td>\n",
       "      <td>3</td>\n",
       "      <td>4</td>\n",
       "      <td>29562</td>\n",
       "      <td>112</td>\n",
       "    </tr>\n",
       "    <tr>\n",
       "      <th>1</th>\n",
       "      <td>0</td>\n",
       "      <td>19</td>\n",
       "      <td>1</td>\n",
       "      <td>15</td>\n",
       "      <td>1</td>\n",
       "      <td>2</td>\n",
       "      <td>3</td>\n",
       "      <td>31836</td>\n",
       "      <td>75</td>\n",
       "    </tr>\n",
       "    <tr>\n",
       "      <th>2</th>\n",
       "      <td>0</td>\n",
       "      <td>19</td>\n",
       "      <td>0</td>\n",
       "      <td>14</td>\n",
       "      <td>0</td>\n",
       "      <td>4</td>\n",
       "      <td>3</td>\n",
       "      <td>30699</td>\n",
       "      <td>66</td>\n",
       "    </tr>\n",
       "    <tr>\n",
       "      <th>3</th>\n",
       "      <td>0</td>\n",
       "      <td>19</td>\n",
       "      <td>1</td>\n",
       "      <td>12</td>\n",
       "      <td>1</td>\n",
       "      <td>3</td>\n",
       "      <td>3</td>\n",
       "      <td>32973</td>\n",
       "      <td>85</td>\n",
       "    </tr>\n",
       "    <tr>\n",
       "      <th>4</th>\n",
       "      <td>0</td>\n",
       "      <td>20</td>\n",
       "      <td>1</td>\n",
       "      <td>13</td>\n",
       "      <td>0</td>\n",
       "      <td>4</td>\n",
       "      <td>2</td>\n",
       "      <td>35247</td>\n",
       "      <td>47</td>\n",
       "    </tr>\n",
       "    <tr>\n",
       "      <th>...</th>\n",
       "      <td>...</td>\n",
       "      <td>...</td>\n",
       "      <td>...</td>\n",
       "      <td>...</td>\n",
       "      <td>...</td>\n",
       "      <td>...</td>\n",
       "      <td>...</td>\n",
       "      <td>...</td>\n",
       "      <td>...</td>\n",
       "    </tr>\n",
       "    <tr>\n",
       "      <th>175</th>\n",
       "      <td>2</td>\n",
       "      <td>40</td>\n",
       "      <td>1</td>\n",
       "      <td>21</td>\n",
       "      <td>1</td>\n",
       "      <td>6</td>\n",
       "      <td>5</td>\n",
       "      <td>83416</td>\n",
       "      <td>200</td>\n",
       "    </tr>\n",
       "    <tr>\n",
       "      <th>176</th>\n",
       "      <td>2</td>\n",
       "      <td>42</td>\n",
       "      <td>1</td>\n",
       "      <td>18</td>\n",
       "      <td>1</td>\n",
       "      <td>5</td>\n",
       "      <td>4</td>\n",
       "      <td>89641</td>\n",
       "      <td>200</td>\n",
       "    </tr>\n",
       "    <tr>\n",
       "      <th>177</th>\n",
       "      <td>2</td>\n",
       "      <td>45</td>\n",
       "      <td>1</td>\n",
       "      <td>16</td>\n",
       "      <td>1</td>\n",
       "      <td>5</td>\n",
       "      <td>5</td>\n",
       "      <td>90886</td>\n",
       "      <td>160</td>\n",
       "    </tr>\n",
       "    <tr>\n",
       "      <th>178</th>\n",
       "      <td>2</td>\n",
       "      <td>47</td>\n",
       "      <td>1</td>\n",
       "      <td>18</td>\n",
       "      <td>0</td>\n",
       "      <td>4</td>\n",
       "      <td>5</td>\n",
       "      <td>104581</td>\n",
       "      <td>120</td>\n",
       "    </tr>\n",
       "    <tr>\n",
       "      <th>179</th>\n",
       "      <td>2</td>\n",
       "      <td>48</td>\n",
       "      <td>1</td>\n",
       "      <td>18</td>\n",
       "      <td>0</td>\n",
       "      <td>4</td>\n",
       "      <td>5</td>\n",
       "      <td>95508</td>\n",
       "      <td>180</td>\n",
       "    </tr>\n",
       "  </tbody>\n",
       "</table>\n",
       "<p>180 rows × 9 columns</p>\n",
       "</div>"
      ],
      "text/plain": [
       "     Product  Age  Gender  Education  MaritalStatus  Usage  Fitness  Income  \\\n",
       "0          0   18       1         14              1      3        4   29562   \n",
       "1          0   19       1         15              1      2        3   31836   \n",
       "2          0   19       0         14              0      4        3   30699   \n",
       "3          0   19       1         12              1      3        3   32973   \n",
       "4          0   20       1         13              0      4        2   35247   \n",
       "..       ...  ...     ...        ...            ...    ...      ...     ...   \n",
       "175        2   40       1         21              1      6        5   83416   \n",
       "176        2   42       1         18              1      5        4   89641   \n",
       "177        2   45       1         16              1      5        5   90886   \n",
       "178        2   47       1         18              0      4        5  104581   \n",
       "179        2   48       1         18              0      4        5   95508   \n",
       "\n",
       "     Miles  \n",
       "0      112  \n",
       "1       75  \n",
       "2       66  \n",
       "3       85  \n",
       "4       47  \n",
       "..     ...  \n",
       "175    200  \n",
       "176    200  \n",
       "177    160  \n",
       "178    120  \n",
       "179    180  \n",
       "\n",
       "[180 rows x 9 columns]"
      ]
     },
     "execution_count": 49,
     "metadata": {},
     "output_type": "execute_result"
    }
   ],
   "source": [
    "mldf"
   ]
  },
  {
   "cell_type": "markdown",
   "id": "d085cd0d",
   "metadata": {},
   "source": [
    "### Categorical Variable changes:\n",
    "- Marital Status: Single - 1 Partnered - 0\n",
    "- Gender: Male - 1 Female - 0\n",
    "- Product: KP281 - 0 KP481 - 1 KP781 - 2"
   ]
  },
  {
   "cell_type": "code",
   "execution_count": 50,
   "id": "4968dff5",
   "metadata": {},
   "outputs": [],
   "source": [
    "x = mldf.loc[:, mldf.columns != 'Product']"
   ]
  },
  {
   "cell_type": "code",
   "execution_count": 51,
   "id": "5d3b2763",
   "metadata": {},
   "outputs": [
    {
     "data": {
      "text/plain": [
       "array([[    18,      1,     14, ...,      4,  29562,    112],\n",
       "       [    19,      1,     15, ...,      3,  31836,     75],\n",
       "       [    19,      0,     14, ...,      3,  30699,     66],\n",
       "       ...,\n",
       "       [    45,      1,     16, ...,      5,  90886,    160],\n",
       "       [    47,      1,     18, ...,      5, 104581,    120],\n",
       "       [    48,      1,     18, ...,      5,  95508,    180]], dtype=int64)"
      ]
     },
     "execution_count": 51,
     "metadata": {},
     "output_type": "execute_result"
    }
   ],
   "source": [
    "x = np.array(x)\n",
    "x"
   ]
  },
  {
   "cell_type": "code",
   "execution_count": 52,
   "id": "b22e41af",
   "metadata": {},
   "outputs": [
    {
     "data": {
      "text/plain": [
       "array([0, 0, 0, 0, 0, 0, 0, 0, 0, 0, 0, 0, 0, 0, 0, 0, 0, 0, 0, 0, 0, 0,\n",
       "       0, 0, 0, 0, 0, 0, 0, 0, 0, 0, 0, 0, 0, 0, 0, 0, 0, 0, 0, 0, 0, 0,\n",
       "       0, 0, 0, 0, 0, 0, 0, 0, 0, 0, 0, 0, 0, 0, 0, 0, 0, 0, 0, 0, 0, 0,\n",
       "       0, 0, 0, 0, 0, 0, 0, 0, 0, 0, 0, 0, 0, 0, 1, 1, 1, 1, 1, 1, 1, 1,\n",
       "       1, 1, 1, 1, 1, 1, 1, 1, 1, 1, 1, 1, 1, 1, 1, 1, 1, 1, 1, 1, 1, 1,\n",
       "       1, 1, 1, 1, 1, 1, 1, 1, 1, 1, 1, 1, 1, 1, 1, 1, 1, 1, 1, 1, 1, 1,\n",
       "       1, 1, 1, 1, 1, 1, 1, 1, 2, 2, 2, 2, 2, 2, 2, 2, 2, 2, 2, 2, 2, 2,\n",
       "       2, 2, 2, 2, 2, 2, 2, 2, 2, 2, 2, 2, 2, 2, 2, 2, 2, 2, 2, 2, 2, 2,\n",
       "       2, 2, 2, 2], dtype=int8)"
      ]
     },
     "execution_count": 52,
     "metadata": {},
     "output_type": "execute_result"
    }
   ],
   "source": [
    "y = mldf['Product']\n",
    "y = np.array(y)\n",
    "y"
   ]
  },
  {
   "cell_type": "code",
   "execution_count": 53,
   "id": "9da9b4fb",
   "metadata": {},
   "outputs": [],
   "source": [
    "X_train, X_test, y_train, y_test = train_test_split(\n",
    "    x, y, test_size=0.33, random_state=42)"
   ]
  },
  {
   "cell_type": "code",
   "execution_count": 54,
   "id": "d6ef34ad",
   "metadata": {},
   "outputs": [],
   "source": [
    "k_val = [1,2,3,4,5,6,7,8,9,10,11,12,13,14,15,16,17,18,19,20]"
   ]
  },
  {
   "cell_type": "code",
   "execution_count": 55,
   "id": "0f2d25f0",
   "metadata": {},
   "outputs": [
    {
     "name": "stdout",
     "output_type": "stream",
     "text": [
      "k = 1 accuracy = 0.5666666666666667\n",
      "k = 2 accuracy = 0.6166666666666667\n",
      "k = 3 accuracy = 0.5333333333333333\n",
      "k = 4 accuracy = 0.6333333333333333\n",
      "k = 5 accuracy = 0.6333333333333333\n",
      "k = 6 accuracy = 0.65\n",
      "k = 7 accuracy = 0.6166666666666667\n",
      "k = 8 accuracy = 0.6166666666666667\n",
      "k = 9 accuracy = 0.6\n",
      "k = 10 accuracy = 0.6\n",
      "k = 11 accuracy = 0.5333333333333333\n",
      "k = 12 accuracy = 0.5\n",
      "k = 13 accuracy = 0.5166666666666667\n",
      "k = 14 accuracy = 0.6\n",
      "k = 15 accuracy = 0.5333333333333333\n",
      "k = 16 accuracy = 0.6166666666666667\n",
      "k = 17 accuracy = 0.55\n",
      "k = 18 accuracy = 0.6\n",
      "k = 19 accuracy = 0.6\n",
      "k = 20 accuracy = 0.6\n"
     ]
    }
   ],
   "source": [
    "# Train and visualize the models with varying k values\n",
    "for i, k in enumerate(k_val):\n",
    "    # Create KNN model\n",
    "    knn = KNeighborsClassifier(n_neighbors=k)\n",
    " \n",
    "    # Train the model\n",
    "    knn.fit(X_train, y_train)\n",
    " \n",
    "    # Make predictions\n",
    "    y_pred = knn.predict(X_test)\n",
    " \n",
    "    # Calculate accuracy\n",
    "    accuracy = accuracy_score(y_test, y_pred)\n",
    "    print(\"k = \" + str(k) + \" accuracy = \" + str(accuracy))"
   ]
  },
  {
   "cell_type": "markdown",
   "id": "b58579e4",
   "metadata": {},
   "source": [
    "### Observations:\n",
    "- Very poor accuracy with KNN classification, best k to be selected is k=6 to get an accuracy of 65%\n",
    "- Very little data can also be the reason for this and not having a lot of points"
   ]
  }
 ],
 "metadata": {
  "kernelspec": {
   "display_name": "Python 3 (ipykernel)",
   "language": "python",
   "name": "python3"
  },
  "language_info": {
   "codemirror_mode": {
    "name": "ipython",
    "version": 3
   },
   "file_extension": ".py",
   "mimetype": "text/x-python",
   "name": "python",
   "nbconvert_exporter": "python",
   "pygments_lexer": "ipython3",
   "version": "3.9.7"
  }
 },
 "nbformat": 4,
 "nbformat_minor": 5
}
